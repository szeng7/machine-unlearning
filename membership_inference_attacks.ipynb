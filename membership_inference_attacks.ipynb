{
  "cells": [
    {
      "cell_type": "markdown",
      "source": [
        "Libraries and functions that need to be loaded:"
      ],
      "metadata": {
        "nteract": {
          "transient": {
            "deleting": false
          }
        }
      },
      "id": "8705a4dd-14b6-414e-b56c-e18c1bde6083"
    },
    {
      "cell_type": "code",
      "source": [
        "pip install tensorflow"
      ],
      "outputs": [
        {
          "output_type": "stream",
          "name": "stdout",
          "text": "Requirement already satisfied: tensorflow in /anaconda/envs/azureml_py310_sdkv2/lib/python3.10/site-packages (2.15.0.post1)\nRequirement already satisfied: absl-py>=1.0.0 in /anaconda/envs/azureml_py310_sdkv2/lib/python3.10/site-packages (from tensorflow) (1.4.0)\nRequirement already satisfied: astunparse>=1.6.0 in /anaconda/envs/azureml_py310_sdkv2/lib/python3.10/site-packages (from tensorflow) (1.6.3)\nRequirement already satisfied: flatbuffers>=23.5.26 in /anaconda/envs/azureml_py310_sdkv2/lib/python3.10/site-packages (from tensorflow) (23.5.26)\nRequirement already satisfied: gast!=0.5.0,!=0.5.1,!=0.5.2,>=0.2.1 in /anaconda/envs/azureml_py310_sdkv2/lib/python3.10/site-packages (from tensorflow) (0.5.4)\nRequirement already satisfied: google-pasta>=0.1.1 in /anaconda/envs/azureml_py310_sdkv2/lib/python3.10/site-packages (from tensorflow) (0.2.0)\nRequirement already satisfied: h5py>=2.9.0 in /anaconda/envs/azureml_py310_sdkv2/lib/python3.10/site-packages (from tensorflow) (3.10.0)\nRequirement already satisfied: libclang>=13.0.0 in /anaconda/envs/azureml_py310_sdkv2/lib/python3.10/site-packages (from tensorflow) (16.0.6)\nRequirement already satisfied: ml-dtypes~=0.2.0 in /anaconda/envs/azureml_py310_sdkv2/lib/python3.10/site-packages (from tensorflow) (0.2.0)\nRequirement already satisfied: numpy<2.0.0,>=1.23.5 in /anaconda/envs/azureml_py310_sdkv2/lib/python3.10/site-packages (from tensorflow) (1.25.0)\nRequirement already satisfied: opt-einsum>=2.3.2 in /anaconda/envs/azureml_py310_sdkv2/lib/python3.10/site-packages (from tensorflow) (3.3.0)\nRequirement already satisfied: packaging in /anaconda/envs/azureml_py310_sdkv2/lib/python3.10/site-packages (from tensorflow) (22.0)\nRequirement already satisfied: protobuf!=4.21.0,!=4.21.1,!=4.21.2,!=4.21.3,!=4.21.4,!=4.21.5,<5.0.0dev,>=3.20.3 in /anaconda/envs/azureml_py310_sdkv2/lib/python3.10/site-packages (from tensorflow) (3.20.3)\nRequirement already satisfied: setuptools in /anaconda/envs/azureml_py310_sdkv2/lib/python3.10/site-packages (from tensorflow) (67.8.0)\nRequirement already satisfied: six>=1.12.0 in /anaconda/envs/azureml_py310_sdkv2/lib/python3.10/site-packages (from tensorflow) (1.16.0)\nRequirement already satisfied: termcolor>=1.1.0 in /anaconda/envs/azureml_py310_sdkv2/lib/python3.10/site-packages (from tensorflow) (2.4.0)\nRequirement already satisfied: typing-extensions>=3.6.6 in /anaconda/envs/azureml_py310_sdkv2/lib/python3.10/site-packages (from tensorflow) (4.6.3)\nRequirement already satisfied: wrapt<1.15,>=1.11.0 in /anaconda/envs/azureml_py310_sdkv2/lib/python3.10/site-packages (from tensorflow) (1.14.1)\nRequirement already satisfied: tensorflow-io-gcs-filesystem>=0.23.1 in /anaconda/envs/azureml_py310_sdkv2/lib/python3.10/site-packages (from tensorflow) (0.34.0)\nRequirement already satisfied: grpcio<2.0,>=1.24.3 in /anaconda/envs/azureml_py310_sdkv2/lib/python3.10/site-packages (from tensorflow) (1.59.3)\nRequirement already satisfied: tensorboard<2.16,>=2.15 in /anaconda/envs/azureml_py310_sdkv2/lib/python3.10/site-packages (from tensorflow) (2.15.1)\nRequirement already satisfied: tensorflow-estimator<2.16,>=2.15.0 in /anaconda/envs/azureml_py310_sdkv2/lib/python3.10/site-packages (from tensorflow) (2.15.0)\nRequirement already satisfied: keras<2.16,>=2.15.0 in /anaconda/envs/azureml_py310_sdkv2/lib/python3.10/site-packages (from tensorflow) (2.15.0)\nRequirement already satisfied: wheel<1.0,>=0.23.0 in /anaconda/envs/azureml_py310_sdkv2/lib/python3.10/site-packages (from astunparse>=1.6.0->tensorflow) (0.38.4)\nRequirement already satisfied: google-auth<3,>=1.6.3 in /anaconda/envs/azureml_py310_sdkv2/lib/python3.10/site-packages (from tensorboard<2.16,>=2.15->tensorflow) (2.20.0)\nRequirement already satisfied: google-auth-oauthlib<2,>=0.5 in /anaconda/envs/azureml_py310_sdkv2/lib/python3.10/site-packages (from tensorboard<2.16,>=2.15->tensorflow) (1.1.0)\nRequirement already satisfied: markdown>=2.6.8 in /anaconda/envs/azureml_py310_sdkv2/lib/python3.10/site-packages (from tensorboard<2.16,>=2.15->tensorflow) (3.4.3)\nRequirement already satisfied: requests<3,>=2.21.0 in /anaconda/envs/azureml_py310_sdkv2/lib/python3.10/site-packages (from tensorboard<2.16,>=2.15->tensorflow) (2.31.0)\nRequirement already satisfied: tensorboard-data-server<0.8.0,>=0.7.0 in /anaconda/envs/azureml_py310_sdkv2/lib/python3.10/site-packages (from tensorboard<2.16,>=2.15->tensorflow) (0.7.2)\nRequirement already satisfied: werkzeug>=1.0.1 in /anaconda/envs/azureml_py310_sdkv2/lib/python3.10/site-packages (from tensorboard<2.16,>=2.15->tensorflow) (2.3.6)\nRequirement already satisfied: cachetools<6.0,>=2.0.0 in /anaconda/envs/azureml_py310_sdkv2/lib/python3.10/site-packages (from google-auth<3,>=1.6.3->tensorboard<2.16,>=2.15->tensorflow) (5.3.1)\nRequirement already satisfied: pyasn1-modules>=0.2.1 in /anaconda/envs/azureml_py310_sdkv2/lib/python3.10/site-packages (from google-auth<3,>=1.6.3->tensorboard<2.16,>=2.15->tensorflow) (0.3.0)\nRequirement already satisfied: rsa<5,>=3.1.4 in /anaconda/envs/azureml_py310_sdkv2/lib/python3.10/site-packages (from google-auth<3,>=1.6.3->tensorboard<2.16,>=2.15->tensorflow) (4.9)\nRequirement already satisfied: urllib3<2.0 in /anaconda/envs/azureml_py310_sdkv2/lib/python3.10/site-packages (from google-auth<3,>=1.6.3->tensorboard<2.16,>=2.15->tensorflow) (1.26.16)\nRequirement already satisfied: requests-oauthlib>=0.7.0 in /anaconda/envs/azureml_py310_sdkv2/lib/python3.10/site-packages (from google-auth-oauthlib<2,>=0.5->tensorboard<2.16,>=2.15->tensorflow) (1.3.1)\nRequirement already satisfied: charset-normalizer<4,>=2 in /anaconda/envs/azureml_py310_sdkv2/lib/python3.10/site-packages (from requests<3,>=2.21.0->tensorboard<2.16,>=2.15->tensorflow) (3.1.0)\nRequirement already satisfied: idna<4,>=2.5 in /anaconda/envs/azureml_py310_sdkv2/lib/python3.10/site-packages (from requests<3,>=2.21.0->tensorboard<2.16,>=2.15->tensorflow) (3.4)\nRequirement already satisfied: certifi>=2017.4.17 in /anaconda/envs/azureml_py310_sdkv2/lib/python3.10/site-packages (from requests<3,>=2.21.0->tensorboard<2.16,>=2.15->tensorflow) (2023.5.7)\nRequirement already satisfied: MarkupSafe>=2.1.1 in /anaconda/envs/azureml_py310_sdkv2/lib/python3.10/site-packages (from werkzeug>=1.0.1->tensorboard<2.16,>=2.15->tensorflow) (2.1.3)\nRequirement already satisfied: pyasn1<0.6.0,>=0.4.6 in /anaconda/envs/azureml_py310_sdkv2/lib/python3.10/site-packages (from pyasn1-modules>=0.2.1->google-auth<3,>=1.6.3->tensorboard<2.16,>=2.15->tensorflow) (0.5.0)\nRequirement already satisfied: oauthlib>=3.0.0 in /anaconda/envs/azureml_py310_sdkv2/lib/python3.10/site-packages (from requests-oauthlib>=0.7.0->google-auth-oauthlib<2,>=0.5->tensorboard<2.16,>=2.15->tensorflow) (3.2.2)\nNote: you may need to restart the kernel to use updated packages.\n"
        }
      ],
      "execution_count": 1,
      "metadata": {
        "gather": {
          "logged": 1702617853204
        },
        "jupyter": {
          "outputs_hidden": true
        }
      },
      "id": "f849facb-9073-48f1-a6ed-44ae497c24a4"
    },
    {
      "cell_type": "code",
      "source": [
        "pip install scikit-learn"
      ],
      "outputs": [
        {
          "output_type": "stream",
          "name": "stdout",
          "text": "Requirement already satisfied: scikit-learn in /anaconda/envs/azureml_py310_sdkv2/lib/python3.10/site-packages (1.2.2)\nRequirement already satisfied: numpy>=1.17.3 in /anaconda/envs/azureml_py310_sdkv2/lib/python3.10/site-packages (from scikit-learn) (1.25.0)\nRequirement already satisfied: scipy>=1.3.2 in /anaconda/envs/azureml_py310_sdkv2/lib/python3.10/site-packages (from scikit-learn) (1.10.1)\nRequirement already satisfied: joblib>=1.1.1 in /anaconda/envs/azureml_py310_sdkv2/lib/python3.10/site-packages (from scikit-learn) (1.2.0)\nRequirement already satisfied: threadpoolctl>=2.0.0 in /anaconda/envs/azureml_py310_sdkv2/lib/python3.10/site-packages (from scikit-learn) (3.1.0)\nNote: you may need to restart the kernel to use updated packages.\n"
        }
      ],
      "execution_count": 2,
      "metadata": {
        "jupyter": {
          "source_hidden": false,
          "outputs_hidden": true
        },
        "nteract": {
          "transient": {
            "deleting": false
          }
        },
        "gather": {
          "logged": 1702617856228
        }
      },
      "id": "9382372d-dc78-4cee-94de-7e56160ae371"
    },
    {
      "cell_type": "code",
      "source": [
        "pip install keras"
      ],
      "outputs": [
        {
          "output_type": "stream",
          "name": "stdout",
          "text": "Requirement already satisfied: keras in /anaconda/envs/azureml_py310_sdkv2/lib/python3.10/site-packages (2.15.0)\nNote: you may need to restart the kernel to use updated packages.\n"
        }
      ],
      "execution_count": 3,
      "metadata": {
        "jupyter": {
          "source_hidden": false,
          "outputs_hidden": true
        },
        "nteract": {
          "transient": {
            "deleting": false
          }
        },
        "gather": {
          "logged": 1702617858996
        }
      },
      "id": "2d1dbb23-4406-4fd5-964a-8a60b2baed84"
    },
    {
      "cell_type": "code",
      "source": [
        "pip install matplotlib"
      ],
      "outputs": [
        {
          "output_type": "stream",
          "name": "stdout",
          "text": "Requirement already satisfied: matplotlib in /anaconda/envs/azureml_py310_sdkv2/lib/python3.10/site-packages (3.7.1)\nRequirement already satisfied: contourpy>=1.0.1 in /anaconda/envs/azureml_py310_sdkv2/lib/python3.10/site-packages (from matplotlib) (1.1.0)\nRequirement already satisfied: cycler>=0.10 in /anaconda/envs/azureml_py310_sdkv2/lib/python3.10/site-packages (from matplotlib) (0.11.0)\nRequirement already satisfied: fonttools>=4.22.0 in /anaconda/envs/azureml_py310_sdkv2/lib/python3.10/site-packages (from matplotlib) (4.40.0)\nRequirement already satisfied: kiwisolver>=1.0.1 in /anaconda/envs/azureml_py310_sdkv2/lib/python3.10/site-packages (from matplotlib) (1.4.4)\nRequirement already satisfied: numpy>=1.20 in /anaconda/envs/azureml_py310_sdkv2/lib/python3.10/site-packages (from matplotlib) (1.25.0)\nRequirement already satisfied: packaging>=20.0 in /anaconda/envs/azureml_py310_sdkv2/lib/python3.10/site-packages (from matplotlib) (22.0)\nRequirement already satisfied: pillow>=6.2.0 in /anaconda/envs/azureml_py310_sdkv2/lib/python3.10/site-packages (from matplotlib) (9.5.0)\nRequirement already satisfied: pyparsing>=2.3.1 in /anaconda/envs/azureml_py310_sdkv2/lib/python3.10/site-packages (from matplotlib) (3.1.0)\nRequirement already satisfied: python-dateutil>=2.7 in /anaconda/envs/azureml_py310_sdkv2/lib/python3.10/site-packages (from matplotlib) (2.8.2)\nRequirement already satisfied: six>=1.5 in /anaconda/envs/azureml_py310_sdkv2/lib/python3.10/site-packages (from python-dateutil>=2.7->matplotlib) (1.16.0)\nNote: you may need to restart the kernel to use updated packages.\n"
        }
      ],
      "execution_count": 4,
      "metadata": {
        "jupyter": {
          "source_hidden": false,
          "outputs_hidden": true
        },
        "nteract": {
          "transient": {
            "deleting": false
          }
        },
        "gather": {
          "logged": 1702617861999
        }
      },
      "id": "d461af4f-a83a-498c-a05a-a2c2df4b607a"
    },
    {
      "cell_type": "code",
      "source": [
        "pip install tqdm"
      ],
      "outputs": [
        {
          "output_type": "stream",
          "name": "stdout",
          "text": "Requirement already satisfied: tqdm in /anaconda/envs/azureml_py310_sdkv2/lib/python3.10/site-packages (4.65.0)\nNote: you may need to restart the kernel to use updated packages.\n"
        }
      ],
      "execution_count": 5,
      "metadata": {
        "jupyter": {
          "source_hidden": false,
          "outputs_hidden": true
        },
        "nteract": {
          "transient": {
            "deleting": false
          }
        },
        "gather": {
          "logged": 1702617864684
        }
      },
      "id": "90e86487-f535-445e-be51-dfd58ac46343"
    },
    {
      "cell_type": "code",
      "source": [
        "import numpy as np\n",
        "import tensorflow as tf\n",
        "import matplotlib.pyplot as plt\n",
        "import keras\n",
        "\n",
        "from keras.datasets import cifar10\n",
        "from keras.utils import to_categorical   \n",
        "from sklearn.model_selection import train_test_split\n",
        "\n",
        "def load_cifar10():\n",
        "\n",
        "    (X_train, y_train), (X_test_val, y_test_val) = cifar10.load_data() #automatically gives train (80), val (20)\n",
        "    #split val in half to get our val (10), test(10)\n",
        "    X_val, X_test, y_val, y_test = train_test_split(X_test_val, y_test_val, test_size=0.5, shuffle=True, stratify=y_test_val)\n",
        "\n",
        "    return X_train, y_train, X_val, y_val, X_test, y_test\n"
      ],
      "outputs": [
        {
          "output_type": "stream",
          "name": "stderr",
          "text": "2023-12-15 05:24:25.496995: I external/local_tsl/tsl/cuda/cudart_stub.cc:31] Could not find cuda drivers on your machine, GPU will not be used.\n2023-12-15 05:24:25.551776: E external/local_xla/xla/stream_executor/cuda/cuda_dnn.cc:9261] Unable to register cuDNN factory: Attempting to register factory for plugin cuDNN when one has already been registered\n2023-12-15 05:24:25.551839: E external/local_xla/xla/stream_executor/cuda/cuda_fft.cc:607] Unable to register cuFFT factory: Attempting to register factory for plugin cuFFT when one has already been registered\n2023-12-15 05:24:25.553213: E external/local_xla/xla/stream_executor/cuda/cuda_blas.cc:1515] Unable to register cuBLAS factory: Attempting to register factory for plugin cuBLAS when one has already been registered\n2023-12-15 05:24:25.561949: I external/local_tsl/tsl/cuda/cudart_stub.cc:31] Could not find cuda drivers on your machine, GPU will not be used.\n2023-12-15 05:24:25.562763: I tensorflow/core/platform/cpu_feature_guard.cc:182] This TensorFlow binary is optimized to use available CPU instructions in performance-critical operations.\nTo enable the following instructions: AVX2 FMA, in other operations, rebuild TensorFlow with the appropriate compiler flags.\n2023-12-15 05:24:27.130816: W tensorflow/compiler/tf2tensorrt/utils/py_utils.cc:38] TF-TRT Warning: Could not find TensorRT\n"
        }
      ],
      "execution_count": 6,
      "metadata": {
        "gather": {
          "logged": 1702617869026
        },
        "jupyter": {
          "outputs_hidden": true
        }
      },
      "id": "80b8723e-aa60-46b8-b62c-071f91159e8e"
    },
    {
      "cell_type": "code",
      "source": [
        "X_train, y_train, X_val, y_val, X_test, y_test = load_cifar10()"
      ],
      "outputs": [],
      "execution_count": 7,
      "metadata": {
        "gather": {
          "logged": 1702617869800
        }
      },
      "id": "e68e59d1-220a-44db-a45e-80799934ec86"
    },
    {
      "cell_type": "code",
      "source": [
        "from keras.models import Sequential\n",
        "from keras import layers\n",
        "from keras.layers import Dense, Dropout, BatchNormalization\n",
        "\n",
        "num_classes = 10\n",
        "\n",
        "def get_model(simple=True):\n",
        "\n",
        "    model = Sequential()\n",
        "\n",
        "    if simple:\n",
        "        model.add(layers.Conv2D(32, (3,3), padding='same', activation='relu', input_shape=(32,32,3)))\n",
        "        model.add(layers.MaxPooling2D(pool_size=(2,2)))\n",
        "        model.add(layers.Flatten())\n",
        "        model.add(layers.Dense(num_classes, activation='softmax'))    # num_classes = 10\n",
        "    else:\n",
        "        model.add(layers.Conv2D(32, (3,3), padding='same', activation='relu', input_shape=(32,32,3)))\n",
        "        model.add(layers.BatchNormalization())\n",
        "        model.add(layers.Conv2D(32, (3,3), padding='same', activation='relu'))\n",
        "        model.add(layers.BatchNormalization())\n",
        "        model.add(layers.MaxPooling2D(pool_size=(2,2)))\n",
        "        model.add(layers.Dropout(0.3))\n",
        "\n",
        "        model.add(layers.Conv2D(64, (3,3), padding='same', activation='relu'))\n",
        "        model.add(layers.BatchNormalization())\n",
        "        model.add(layers.Conv2D(64, (3,3), padding='same', activation='relu'))\n",
        "        model.add(layers.BatchNormalization())\n",
        "        model.add(layers.MaxPooling2D(pool_size=(2,2)))\n",
        "        model.add(layers.Dropout(0.5))\n",
        "\n",
        "        model.add(layers.Conv2D(128, (3,3), padding='same', activation='relu'))\n",
        "        model.add(layers.BatchNormalization())\n",
        "        model.add(layers.Conv2D(128, (3,3), padding='same', activation='relu'))\n",
        "        model.add(layers.BatchNormalization())\n",
        "        model.add(layers.MaxPooling2D(pool_size=(2,2)))\n",
        "        model.add(layers.Dropout(0.5))\n",
        "\n",
        "        model.add(layers.Flatten())\n",
        "        model.add(layers.Dense(128, activation='relu'))\n",
        "        model.add(layers.BatchNormalization())\n",
        "        model.add(layers.Dropout(0.5))\n",
        "        model.add(layers.Dense(num_classes, activation='softmax'))    # num_classes = 10\n",
        "\n",
        "    return model\n"
      ],
      "outputs": [],
      "execution_count": 8,
      "metadata": {
        "gather": {
          "logged": 1702617870012
        }
      },
      "id": "91cad451-e14c-43c6-a8ee-c70822a194f3"
    },
    {
      "cell_type": "code",
      "source": [
        "np.random.seed(42)\n",
        "\n",
        "# this removes an entire class\n",
        "def split_to_retain_and_forget(X, y, unlearn_class_label):\n",
        "    retain_mask = (y != unlearn_class_label).squeeze(axis=1)\n",
        "    \n",
        "    X_retain = X[retain_mask]\n",
        "    y_retain = y[retain_mask]\n",
        "    \n",
        "    forget_mask = (y == unlearn_class_label).squeeze(axis=1)\n",
        "    \n",
        "    X_forget = X[forget_mask]\n",
        "    y_forget = y[forget_mask]\n",
        "\n",
        "    return X_retain, y_retain, X_forget, y_forget\n",
        "\n",
        "#Since the forget set only includes examples of one label, it doesn't get converted to a proper one hot encoding, so we need to force it.\n",
        "def pad_array(original_array, desired_length):\n",
        "    num_zeros_to_pad = max(0, desired_length - original_array.shape[1])\n",
        "    padded_array = np.pad(original_array, ((0, 0), (0, num_zeros_to_pad)), mode='constant', constant_values=0)\n",
        "\n",
        "    return padded_array\n",
        "\n",
        "# this splits off a certain number of examples of a class\n",
        "def split_to_retain_and_forget_examples(X, y, unlearn_class_label, num_example):\n",
        "    retain_mask = (y != unlearn_class_label).squeeze(axis=1)\n",
        "    forget_mask = (y == unlearn_class_label).squeeze(axis=1)\n",
        "\n",
        "    forget_indices = np.where(forget_mask)[0]\n",
        "\n",
        "    if num_example > len(forget_indices):\n",
        "        raise ValueError(\"num_example cannot be larger than the number of available examples\")\n",
        "    else:\n",
        "        forget_subset = np.random.choice(forget_indices, size=num_example, replace=False)\n",
        "\n",
        "    X_forget = X[forget_subset]\n",
        "    y_forget = y[forget_subset]\n",
        "\n",
        "    retain_subset = np.setdiff1d(forget_indices, forget_subset)\n",
        "    X_retain = np.concatenate((X[retain_mask], X[retain_subset]), axis=0)\n",
        "    y_retain = np.concatenate((y[retain_mask], y[retain_subset]), axis=0)\n",
        "\n",
        "    return X_retain, y_retain, X_forget, y_forget"
      ],
      "outputs": [],
      "execution_count": 9,
      "metadata": {
        "jupyter": {
          "source_hidden": false,
          "outputs_hidden": false
        },
        "nteract": {
          "transient": {
            "deleting": false
          }
        },
        "gather": {
          "logged": 1702617870258
        }
      },
      "id": "613fbd90-b7e2-470d-9d7c-4936a7420584"
    },
    {
      "cell_type": "code",
      "source": [
        "unlearn_class = 6\n",
        "X_train_retain, y_train_retain, X_train_forget, y_train_forget = split_to_retain_and_forget_examples(X_train, y_train, unlearn_class, num_example=10)\n",
        "X_val_retain, y_val_retain, X_val_forget, y_val_forget = split_to_retain_and_forget(X_val, y_val, unlearn_class)\n",
        "X_test_retain, y_test_retain, X_test_forget, y_test_forget = split_to_retain_and_forget(X_test, y_test, unlearn_class)\n"
      ],
      "outputs": [],
      "execution_count": 10,
      "metadata": {
        "jupyter": {
          "source_hidden": false,
          "outputs_hidden": true
        },
        "nteract": {
          "transient": {
            "deleting": false
          }
        },
        "gather": {
          "logged": 1702617870509
        }
      },
      "id": "b163339a-d4e3-44b6-8c43-e42c137dc692"
    },
    {
      "cell_type": "code",
      "source": [
        "adjusted_y_train_forget = to_categorical(y_train_forget)\n",
        "\n",
        "desired_length = 10\n",
        "\n",
        "adjusted_y_train_forget = pad_array(adjusted_y_train_forget, desired_length)"
      ],
      "outputs": [],
      "execution_count": 11,
      "metadata": {
        "jupyter": {
          "source_hidden": false,
          "outputs_hidden": false
        },
        "nteract": {
          "transient": {
            "deleting": false
          }
        },
        "gather": {
          "logged": 1702617870727
        }
      },
      "id": "4e6ea50d-65b8-45f3-b542-a0831d366ae0"
    },
    {
      "cell_type": "markdown",
      "source": [
        "# Membership Inference Attack"
      ],
      "metadata": {
        "nteract": {
          "transient": {
            "deleting": false
          }
        }
      },
      "id": "39dfae1d-64e5-4ee6-b107-2761abf756bf"
    },
    {
      "cell_type": "markdown",
      "source": [
        "Initial Model:"
      ],
      "metadata": {
        "nteract": {
          "transient": {
            "deleting": false
          }
        }
      },
      "id": "3ee19a8c-3c0d-4fd0-88c4-cda2b4ff891e"
    },
    {
      "cell_type": "code",
      "source": [
        "from scipy import special\n",
        "\n",
        "student = get_model(simple=False)\n",
        "\n",
        "student.load_weights(\"initial_trained_model/model_weights.85-0.87.h5\")\n",
        "\n",
        "student.compile(\n",
        "    'adam',\n",
        "    loss = 'categorical_crossentropy',\n",
        "    metrics = ['accuracy']\n",
        ")\n",
        "\n",
        "print('Predict on train...')\n",
        "logits_train = student.predict(X_train_retain, batch_size=64)\n",
        "print('Predict on test...')\n",
        "logits_test = student.predict(X_train_forget, batch_size=64)\n",
        "\n",
        "print('Apply softmax to get probabilities from logits...')\n",
        "prob_train = special.softmax(logits_train, axis=1)\n",
        "prob_test = special.softmax(logits_test, axis=1)\n",
        "\n",
        "print('Compute losses...')\n",
        "cce = tf.keras.backend.categorical_crossentropy\n",
        "constant = tf.keras.backend.constant\n",
        "\n",
        "adjusted_y_train_forget = to_categorical(y_train_forget)\n",
        "\n",
        "desired_length = 10\n",
        "\n",
        "adjusted_y_train_forget = pad_array(adjusted_y_train_forget, desired_length)\n",
        "\n",
        "loss_train = cce(constant(to_categorical(y_train_retain)), constant(prob_train), from_logits=False).numpy()\n",
        "loss_test = cce(constant(adjusted_y_train_forget), constant(prob_test), from_logits=False).numpy()"
      ],
      "outputs": [
        {
          "output_type": "stream",
          "name": "stdout",
          "text": "Predict on train...\n782/782 [==============================] - 53s 68ms/step\b\b\b\b\b\b\b\b\b\b\b\b\b\b\b\b\b\b\b\b\b\b\b\b\b\b\b\b\b\b\b\b\b\b\b\b\b\b\b\b\b\b\b\b\b\b\b\b\nPredict on test...\n1/1 [==============================] - 0s 27ms/step\b\b\b\b\b\b\b\b\b\b\b\b\b\b\b\b\b\b\b\b\b\b\b\b\b\b\b\b\b\b\b\b\b\b\b\b\b\b\b\b\b\nApply softmax to get probabilities from logits...\nCompute losses...\n"
        }
      ],
      "execution_count": 30,
      "metadata": {
        "jupyter": {
          "source_hidden": false,
          "outputs_hidden": false
        },
        "nteract": {
          "transient": {
            "deleting": false
          }
        },
        "gather": {
          "logged": 1702608247168
        }
      },
      "id": "e29b6d8c-d2be-4c65-821f-a271c3abb532"
    },
    {
      "cell_type": "code",
      "source": [
        "from tensorflow_privacy.privacy.privacy_tests.membership_inference_attack.data_structures import AttackInputData\n",
        "from tensorflow_privacy.privacy.privacy_tests.membership_inference_attack.data_structures import SlicingSpec\n",
        "from tensorflow_privacy.privacy.privacy_tests.membership_inference_attack.data_structures import AttackType\n",
        "\n",
        "import tensorflow_privacy.privacy.privacy_tests.membership_inference_attack.plotting as plotting\n",
        "from tensorflow_privacy.privacy.privacy_tests.membership_inference_attack import membership_inference_attack as mia\n",
        "\n",
        "labels_train = np.argmax(to_categorical(y_train_retain), axis=1)\n",
        "labels_test = np.argmax(adjusted_y_train_forget, axis=1)\n",
        "\n",
        "input = AttackInputData(\n",
        "  logits_train = logits_train,\n",
        "  logits_test = logits_test,\n",
        "  loss_train = loss_train,\n",
        "  loss_test = loss_test,\n",
        "  labels_train = labels_train,\n",
        "  labels_test = labels_test\n",
        ")\n",
        "\n",
        "# Run several attacks for different data slices\n",
        "attacks_result = mia.run_attacks(input,\n",
        "                                 SlicingSpec(entire_dataset = True),\n",
        "                                 attack_types = [\n",
        "                                     #AttackType.THRESHOLD_ATTACK,\n",
        "                                     AttackType.LOGISTIC_REGRESSION])\n",
        "                                     #AttackType.THRESHOLD_ENTROPY_ATTACK,\n",
        "                                     #AttackType.MULTI_LAYERED_PERCEPTRON])\n",
        "\n",
        "# Plot the ROC curve of the best classifier\n",
        "fig = plotting.plot_roc_curve(\n",
        "    attacks_result.get_result_with_max_auc().roc_curve)\n",
        "\n",
        "print(attacks_result.summary(by_slices=True))\n"
      ],
      "outputs": [
        {
          "output_type": "stream",
          "name": "stderr",
          "text": "/anaconda/envs/azureml_py310_sdkv2/lib/python3.10/site-packages/tensorflow_privacy/privacy/privacy_tests/epsilon_lower_bound.py:334: RuntimeWarning: divide by zero encountered in divide\n  power_3_term_numer = 1 + self._z / 3 * np.sqrt(fnr / tp + tnr / fp -\n/anaconda/envs/azureml_py310_sdkv2/lib/python3.10/site-packages/tensorflow_privacy/privacy/privacy_tests/epsilon_lower_bound.py:335: RuntimeWarning: divide by zero encountered in divide\n  (self._z**2 * fnr * tnr) /\n/anaconda/envs/azureml_py310_sdkv2/lib/python3.10/site-packages/tensorflow_privacy/privacy/privacy_tests/epsilon_lower_bound.py:334: RuntimeWarning: invalid value encountered in subtract\n  power_3_term_numer = 1 + self._z / 3 * np.sqrt(fnr / tp + tnr / fp -\n"
        },
        {
          "output_type": "stream",
          "name": "stdout",
          "text": "Best-performing attacks over all slices\n  LOGISTIC_REGRESSION (with 49990 training and 10 test examples) achieved an AUC of 0.96 on slice Entire dataset\n  LOGISTIC_REGRESSION (with 49990 training and 10 test examples) achieved an advantage of 0.90 on slice Entire dataset\n  LOGISTIC_REGRESSION (with 49990 training and 10 test examples) achieved a positive predictive value of 1.00 on slice Entire dataset\n  LOGISTIC_REGRESSION (with 49990 training and 10 test examples) achieved top-5 epsilon lower bounds of 8.9930, 8.7166, 8.6871, 8.3385, 8.2911 on slice Entire dataset\n"
        },
        {
          "output_type": "display_data",
          "data": {
            "text/plain": "<Figure size 640x480 with 1 Axes>",
            "image/png": "[encoded data removed]"
          },
          "metadata": {}
        }
      ],
      "execution_count": 29,
      "metadata": {
        "jupyter": {
          "source_hidden": false,
          "outputs_hidden": false
        },
        "nteract": {
          "transient": {
            "deleting": false
          }
        },
        "gather": {
          "logged": 1702608121071
        },
        "editable": false,
        "run_control": {
          "frozen": true
        }
      },
      "id": "43cfcfae-585a-4479-8f2c-c7d9c1200c85"
    },
    {
      "cell_type": "markdown",
      "source": [
        "Retrained Model:"
      ],
      "metadata": {
        "nteract": {
          "transient": {
            "deleting": false
          }
        }
      },
      "id": "5db71b55-3a8b-4b17-a051-4e3c373234cf"
    },
    {
      "cell_type": "code",
      "source": [
        "from scipy import special\n",
        "\n",
        "student = get_model(simple=False)\n",
        "\n",
        "student.load_weights(\"retain_set_trained_model/model_weights.80-0.88.h5\")\n",
        "\n",
        "student.compile(\n",
        "    'adam',\n",
        "    loss = 'categorical_crossentropy',\n",
        "    metrics = ['accuracy']\n",
        ")\n",
        "\n",
        "print('Predict on train...')\n",
        "logits_train = student.predict(X_train_retain, batch_size=64)\n",
        "print('Predict on test...')\n",
        "logits_test = student.predict(X_train_forget, batch_size=64)\n",
        "\n",
        "print('Apply softmax to get probabilities from logits...')\n",
        "prob_train = special.softmax(logits_train, axis=1)\n",
        "prob_test = special.softmax(logits_test, axis=1)\n",
        "\n",
        "print('Compute losses...')\n",
        "cce = tf.keras.backend.categorical_crossentropy\n",
        "constant = tf.keras.backend.constant\n",
        "\n",
        "adjusted_y_train_forget = to_categorical(y_train_forget)\n",
        "\n",
        "desired_length = 10\n",
        "\n",
        "adjusted_y_train_forget = pad_array(adjusted_y_train_forget, desired_length)\n",
        "\n",
        "loss_train = cce(constant(to_categorical(y_train_retain)), constant(prob_train), from_logits=False).numpy()\n",
        "loss_test = cce(constant(adjusted_y_train_forget), constant(prob_test), from_logits=False).numpy()"
      ],
      "outputs": [
        {
          "output_type": "stream",
          "name": "stdout",
          "text": "Predict on train...\n782/782 [==============================] - 54s 68ms/step\b\b\b\b\b\b\b\b\b\b\b\b\b\b\b\b\b\b\b\b\b\b\b\b\b\b\b\b\b\b\b\b\b\b\b\b\b\b\b\b\b\b\b\b\b\b\b\b\nPredict on test...\n1/1 [==============================] - 0s 48ms/step\b\b\b\b\b\b\b\b\b\b\b\b\b\b\b\b\b\b\b\b\b\b\b\b\b\b\b\b\b\b\b\b\b\b\b\b\b\b\b\b\b\nApply softmax to get probabilities from logits...\nCompute losses...\n"
        }
      ],
      "execution_count": 31,
      "metadata": {
        "jupyter": {
          "source_hidden": false,
          "outputs_hidden": false
        },
        "nteract": {
          "transient": {
            "deleting": false
          }
        },
        "gather": {
          "logged": 1702608302254
        }
      },
      "id": "02263bec-af16-49c3-8139-56c5e2e352a1"
    },
    {
      "cell_type": "code",
      "source": [
        "from tensorflow_privacy.privacy.privacy_tests.membership_inference_attack.data_structures import AttackInputData\n",
        "from tensorflow_privacy.privacy.privacy_tests.membership_inference_attack.data_structures import SlicingSpec\n",
        "from tensorflow_privacy.privacy.privacy_tests.membership_inference_attack.data_structures import AttackType\n",
        "\n",
        "import tensorflow_privacy.privacy.privacy_tests.membership_inference_attack.plotting as plotting\n",
        "from tensorflow_privacy.privacy.privacy_tests.membership_inference_attack import membership_inference_attack as mia\n",
        "\n",
        "import warnings\n",
        "warnings.filterwarnings(\"ignore\")\n",
        "\n",
        "labels_train = np.argmax(to_categorical(y_train_retain), axis=1)\n",
        "labels_test = np.argmax(adjusted_y_train_forget, axis=1)\n",
        "\n",
        "input = AttackInputData(\n",
        "  logits_train = logits_train,\n",
        "  logits_test = logits_test,\n",
        "  loss_train = loss_train,\n",
        "  loss_test = loss_test,\n",
        "  labels_train = labels_train,\n",
        "  labels_test = labels_test\n",
        ")\n",
        "\n",
        "  # Run several attacks for different data slices\n",
        "  attacks_result = mia.run_attacks(input,\n",
        "                                  SlicingSpec(entire_dataset = True),\n",
        "                                  attack_types = [\n",
        "                                      #AttackType.THRESHOLD_ATTACK,\n",
        "                                      AttackType.LOGISTIC_REGRESSION])\n",
        "                                      #AttackType.THRESHOLD_ENTROPY_ATTACK,\n",
        "                                      #AttackType.MULTI_LAYERED_PERCEPTRON])\n",
        "\n",
        "\n",
        "\n",
        "# Plot the ROC curve of the best classifier\n",
        "fig = plotting.plot_roc_curve(\n",
        "    attacks_result.get_result_with_max_auc().roc_curve)\n",
        "\n",
        "print(attacks_result.summary(by_slices=True))\n"
      ],
      "outputs": [
        {
          "output_type": "stream",
          "name": "stdout",
          "text": "Best-performing attacks over all slices\n  LOGISTIC_REGRESSION (with 49990 training and 10 test examples) achieved an AUC of 0.61 on slice Entire dataset\n  LOGISTIC_REGRESSION (with 49990 training and 10 test examples) achieved an advantage of 0.48 on slice Entire dataset\n  LOGISTIC_REGRESSION (with 49990 training and 10 test examples) achieved a positive predictive value of 1.00 on slice Entire dataset\n  LOGISTIC_REGRESSION (with 49990 training and 10 test examples) achieved top-5 epsilon lower bounds of 0.5867, 0.5867, 0.5866, 0.5866, 0.5865 on slice Entire dataset\n"
        },
        {
          "output_type": "display_data",
          "data": {
            "text/plain": "<Figure size 640x480 with 1 Axes>",
            "image/png": "[encoded data removed]"
          },
          "metadata": {}
        }
      ],
      "execution_count": 21,
      "metadata": {
        "jupyter": {
          "source_hidden": false,
          "outputs_hidden": false
        },
        "nteract": {
          "transient": {
            "deleting": false
          }
        },
        "gather": {
          "logged": 1702618628913
        }
      },
      "id": "13b856dc-0174-4e1f-bf10-d995ecf5e988"
    },
    {
      "cell_type": "markdown",
      "source": [
        "Finetuning:"
      ],
      "metadata": {
        "nteract": {
          "transient": {
            "deleting": false
          }
        }
      },
      "id": "f10d4bd0-1fe5-413f-b893-daf62cdb1eda"
    },
    {
      "cell_type": "code",
      "source": [
        "from scipy import special\n",
        "\n",
        "student = get_model(simple=False)\n",
        "\n",
        "student.load_weights(\"finetune_retain_set/model_weights.50-0.88.h5\")\n",
        "\n",
        "student.compile(\n",
        "    'adam',\n",
        "    loss = 'categorical_crossentropy',\n",
        "    metrics = ['accuracy']\n",
        ")\n",
        "\n",
        "print('Predict on train...')\n",
        "logits_train = student.predict(X_train_retain, batch_size=64)\n",
        "print('Predict on test...')\n",
        "logits_test = student.predict(X_train_forget, batch_size=64)\n",
        "\n",
        "print('Apply softmax to get probabilities from logits...')\n",
        "prob_train = special.softmax(logits_train, axis=1)\n",
        "prob_test = special.softmax(logits_test, axis=1)\n",
        "\n",
        "print('Compute losses...')\n",
        "cce = tf.keras.backend.categorical_crossentropy\n",
        "constant = tf.keras.backend.constant\n",
        "\n",
        "adjusted_y_train_forget = to_categorical(y_train_forget)\n",
        "\n",
        "desired_length = 10\n",
        "\n",
        "adjusted_y_train_forget = pad_array(adjusted_y_train_forget, desired_length)\n",
        "\n",
        "loss_train = cce(constant(to_categorical(y_train_retain)), constant(prob_train), from_logits=False).numpy()\n",
        "loss_test = cce(constant(adjusted_y_train_forget), constant(prob_test), from_logits=False).numpy()"
      ],
      "outputs": [
        {
          "output_type": "stream",
          "name": "stdout",
          "text": "Predict on train...\n782/782 [==============================] - 58s 74ms/step\b\b\b\b\b\b\b\b\b\b\b\b\b\b\b\b\b\b\b\b\b\b\b\b\b\b\b\b\b\b\b\b\b\b\b\b\b\b\b\b\b\b\b\b\b\b\b\b\nPredict on test...\n1/1 [==============================] - 0s 35ms/step\b\b\b\b\b\b\b\b\b\b\b\b\b\b\b\b\b\b\b\b\b\b\b\b\b\b\b\b\b\b\b\b\b\b\b\b\b\b\b\b\b\nApply softmax to get probabilities from logits...\nCompute losses...\n"
        }
      ],
      "execution_count": 82,
      "metadata": {
        "jupyter": {
          "source_hidden": false,
          "outputs_hidden": false
        },
        "nteract": {
          "transient": {
            "deleting": false
          }
        },
        "gather": {
          "logged": 1702609524216
        }
      },
      "id": "d262e4b3-5cea-4570-9b52-40fe127f54ca"
    },
    {
      "cell_type": "code",
      "source": [
        "from tensorflow_privacy.privacy.privacy_tests.membership_inference_attack.data_structures import AttackInputData\n",
        "from tensorflow_privacy.privacy.privacy_tests.membership_inference_attack.data_structures import SlicingSpec\n",
        "from tensorflow_privacy.privacy.privacy_tests.membership_inference_attack.data_structures import AttackType\n",
        "\n",
        "import tensorflow_privacy.privacy.privacy_tests.membership_inference_attack.plotting as plotting\n",
        "from tensorflow_privacy.privacy.privacy_tests.membership_inference_attack import membership_inference_attack as mia\n",
        "\n",
        "import warnings\n",
        "warnings.filterwarnings(\"ignore\")\n",
        "\n",
        "labels_train = np.argmax(to_categorical(y_train_retain), axis=1)\n",
        "labels_test = np.argmax(adjusted_y_train_forget, axis=1)\n",
        "\n",
        "input = AttackInputData(\n",
        "  logits_train = logits_train,\n",
        "  logits_test = logits_test,\n",
        "  loss_train = loss_train,\n",
        "  loss_test = loss_test,\n",
        "  labels_train = labels_train,\n",
        "  labels_test = labels_test\n",
        ")\n",
        "\n",
        "# Run several attacks for different data slices\n",
        "attacks_result = mia.run_attacks(input,\n",
        "                                SlicingSpec(entire_dataset = True),\n",
        "                                attack_types = [\n",
        "                                    #AttackType.THRESHOLD_ATTACK,\n",
        "                                    AttackType.LOGISTIC_REGRESSION])\n",
        "                                    #AttackType.THRESHOLD_ENTROPY_ATTACK,\n",
        "                                    #AttackType.MULTI_LAYERED_PERCEPTRON])\n",
        "\n",
        "\n",
        "# Plot the ROC curve of the best classifier\n",
        "fig = plotting.plot_roc_curve(\n",
        "    attacks_result.get_result_with_max_auc().roc_curve)\n",
        "\n",
        "print(attacks_result.summary(by_slices=True))\n"
      ],
      "outputs": [
        {
          "output_type": "stream",
          "name": "stdout",
          "text": "Best-performing attacks over all slices\n  LOGISTIC_REGRESSION (with 49990 training and 10 test examples) achieved an AUC of 0.95 on slice Entire dataset\n  LOGISTIC_REGRESSION (with 49990 training and 10 test examples) achieved an advantage of 0.90 on slice Entire dataset\n  LOGISTIC_REGRESSION (with 49990 training and 10 test examples) achieved a positive predictive value of 1.00 on slice Entire dataset\n  LOGISTIC_REGRESSION (with 49990 training and 10 test examples) achieved top-5 epsilon lower bounds of 8.3385, 8.0037, 7.7461, 7.5728, 7.2806 on slice Entire dataset\n"
        },
        {
          "output_type": "display_data",
          "data": {
            "text/plain": "<Figure size 640x480 with 1 Axes>",
            "image/png": "[encoded data removed]"
          },
          "metadata": {}
        }
      ],
      "execution_count": 84,
      "metadata": {
        "jupyter": {
          "source_hidden": false,
          "outputs_hidden": false
        },
        "nteract": {
          "transient": {
            "deleting": false
          }
        },
        "gather": {
          "logged": 1702609541793
        },
        "editable": false,
        "run_control": {
          "frozen": true
        }
      },
      "id": "d4e3f3b3-3a6d-4989-83e1-85648c7e8091"
    },
    {
      "cell_type": "markdown",
      "source": [
        "Finetuning with Pruning:"
      ],
      "metadata": {
        "nteract": {
          "transient": {
            "deleting": false
          }
        }
      },
      "id": "fd46ff8a-578c-4ca2-b774-3febd704afc9"
    },
    {
      "cell_type": "code",
      "source": [
        "from scipy import special\n",
        "\n",
        "student = get_model(simple=False)\n",
        "\n",
        "student.load_weights(\"pruned/model_weights_pruned0.25.10-0.86.h5\")\n",
        "\n",
        "student.compile(\n",
        "    'adam',\n",
        "    loss = 'categorical_crossentropy',\n",
        "    metrics = ['accuracy']\n",
        ")\n",
        "\n",
        "print('Predict on train...')\n",
        "logits_train = student.predict(X_train_retain, batch_size=64)\n",
        "print('Predict on test...')\n",
        "logits_test = student.predict(X_train_forget, batch_size=64)\n",
        "\n",
        "print('Apply softmax to get probabilities from logits...')\n",
        "prob_train = special.softmax(logits_train, axis=1)\n",
        "prob_test = special.softmax(logits_test, axis=1)\n",
        "\n",
        "print('Compute losses...')\n",
        "cce = tf.keras.backend.categorical_crossentropy\n",
        "constant = tf.keras.backend.constant\n",
        "\n",
        "adjusted_y_train_forget = to_categorical(y_train_forget)\n",
        "\n",
        "desired_length = 10\n",
        "\n",
        "adjusted_y_train_forget = pad_array(adjusted_y_train_forget, desired_length)\n",
        "\n",
        "loss_train = cce(constant(to_categorical(y_train_retain)), constant(prob_train), from_logits=False).numpy()\n",
        "loss_test = cce(constant(adjusted_y_train_forget), constant(prob_test), from_logits=False).numpy()"
      ],
      "outputs": [
        {
          "output_type": "stream",
          "name": "stdout",
          "text": "Predict on train...\n782/782 [==============================] - 52s 67ms/step\b\b\b\b\b\b\b\b\b\b\b\b\b\b\b\b\b\b\b\b\b\b\b\b\b\b\b\b\b\b\b\b\b\b\b\b\b\b\b\b\b\b\b\b\b\b\b\b\nPredict on test...\n1/1 [==============================] - 0s 30ms/step\b\b\b\b\b\b\b\b\b\b\b\b\b\b\b\b\b\b\b\b\b\b\b\b\b\b\b\b\b\b\b\b\b\b\b\b\b\b\b\b\b\nApply softmax to get probabilities from logits...\nCompute losses...\n"
        }
      ],
      "execution_count": 89,
      "metadata": {
        "jupyter": {
          "source_hidden": false,
          "outputs_hidden": false
        },
        "nteract": {
          "transient": {
            "deleting": false
          }
        },
        "gather": {
          "logged": 1702611169515
        }
      },
      "id": "63337dd8-fbbb-4fbd-9ef6-7d8320d7d2b7"
    },
    {
      "cell_type": "code",
      "source": [
        "from tensorflow_privacy.privacy.privacy_tests.membership_inference_attack.data_structures import AttackInputData\n",
        "from tensorflow_privacy.privacy.privacy_tests.membership_inference_attack.data_structures import SlicingSpec\n",
        "from tensorflow_privacy.privacy.privacy_tests.membership_inference_attack.data_structures import AttackType\n",
        "\n",
        "import tensorflow_privacy.privacy.privacy_tests.membership_inference_attack.plotting as plotting\n",
        "from tensorflow_privacy.privacy.privacy_tests.membership_inference_attack import membership_inference_attack as mia\n",
        "\n",
        "import warnings\n",
        "warnings.filterwarnings(\"ignore\")\n",
        "\n",
        "labels_train = np.argmax(to_categorical(y_train_retain), axis=1)\n",
        "labels_test = np.argmax(adjusted_y_train_forget, axis=1)\n",
        "\n",
        "input = AttackInputData(\n",
        "  logits_train = logits_train,\n",
        "  logits_test = logits_test,\n",
        "  loss_train = loss_train,\n",
        "  loss_test = loss_test,\n",
        "  labels_train = labels_train,\n",
        "  labels_test = labels_test\n",
        ")\n",
        "\n",
        "# Run several attacks for different data slices\n",
        "attacks_result = mia.run_attacks(input,\n",
        "                                SlicingSpec(entire_dataset = True),\n",
        "                                attack_types = [\n",
        "                                    #AttackType.THRESHOLD_ATTACK,\n",
        "                                    AttackType.LOGISTIC_REGRESSION])\n",
        "                                    #AttackType.THRESHOLD_ENTROPY_ATTACK,\n",
        "                                    #AttackType.MULTI_LAYERED_PERCEPTRON])\n",
        "\n",
        "\n",
        "# Plot the ROC curve of the best classifier\n",
        "fig = plotting.plot_roc_curve(\n",
        "    attacks_result.get_result_with_max_auc().roc_curve)\n",
        "\n",
        "print(attacks_result.summary(by_slices=True))\n"
      ],
      "outputs": [
        {
          "output_type": "stream",
          "name": "stdout",
          "text": "Best-performing attacks over all slices\n  LOGISTIC_REGRESSION (with 49990 training and 10 test examples) achieved an AUC of 0.89 on slice Entire dataset\n  LOGISTIC_REGRESSION (with 49990 training and 10 test examples) achieved an advantage of 0.70 on slice Entire dataset\n  LOGISTIC_REGRESSION (with 49990 training and 10 test examples) achieved a positive predictive value of 1.00 on slice Entire dataset\n  LOGISTIC_REGRESSION (with 49990 training and 10 test examples) achieved top-5 epsilon lower bounds of 1.8802, 1.8799, 1.8796, 1.8794, 1.8791 on slice Entire dataset\n"
        },
        {
          "output_type": "display_data",
          "data": {
            "text/plain": "<Figure size 640x480 with 1 Axes>",
            "image/png": "[encoded data removed]"
          },
          "metadata": {}
        }
      ],
      "execution_count": 94,
      "metadata": {
        "jupyter": {
          "source_hidden": false,
          "outputs_hidden": false
        },
        "nteract": {
          "transient": {
            "deleting": false
          }
        },
        "gather": {
          "logged": 1702611194547
        },
        "editable": false,
        "run_control": {
          "frozen": true
        }
      },
      "id": "e8d8d5ab-aa98-4ba0-8bb4-7543ea24dbc9"
    },
    {
      "cell_type": "code",
      "source": [
        "from scipy import special\n",
        "\n",
        "student = get_model(simple=False)\n",
        "\n",
        "student.load_weights(\"pruned/model_weights_pruned0.35.10-0.84.h5\")\n",
        "\n",
        "student.compile(\n",
        "    'adam',\n",
        "    loss = 'categorical_crossentropy',\n",
        "    metrics = ['accuracy']\n",
        ")\n",
        "\n",
        "print('Predict on train...')\n",
        "logits_train = student.predict(X_train_retain, batch_size=64)\n",
        "print('Predict on test...')\n",
        "logits_test = student.predict(X_train_forget, batch_size=64)\n",
        "\n",
        "print('Apply softmax to get probabilities from logits...')\n",
        "prob_train = special.softmax(logits_train, axis=1)\n",
        "prob_test = special.softmax(logits_test, axis=1)\n",
        "\n",
        "print('Compute losses...')\n",
        "cce = tf.keras.backend.categorical_crossentropy\n",
        "constant = tf.keras.backend.constant\n",
        "\n",
        "adjusted_y_train_forget = to_categorical(y_train_forget)\n",
        "\n",
        "desired_length = 10\n",
        "\n",
        "adjusted_y_train_forget = pad_array(adjusted_y_train_forget, desired_length)\n",
        "\n",
        "loss_train = cce(constant(to_categorical(y_train_retain)), constant(prob_train), from_logits=False).numpy()\n",
        "loss_test = cce(constant(adjusted_y_train_forget), constant(prob_test), from_logits=False).numpy()"
      ],
      "outputs": [
        {
          "output_type": "stream",
          "name": "stdout",
          "text": "Predict on train...\n782/782 [==============================] - 53s 67ms/step\b\b\b\b\b\b\b\b\b\b\b\b\b\b\b\b\b\b\b\b\b\b\b\b\b\b\b\b\b\b\b\b\b\b\b\b\b\b\b\b\b\b\b\b\b\b\b\b\nPredict on test...\n1/1 [==============================] - 0s 30ms/step\b\b\b\b\b\b\b\b\b\b\b\b\b\b\b\b\b\b\b\b\b\b\b\b\b\b\b\b\b\b\b\b\b\b\b\b\b\b\b\b\b\nApply softmax to get probabilities from logits...\nCompute losses...\n"
        }
      ],
      "execution_count": 95,
      "metadata": {
        "jupyter": {
          "source_hidden": false,
          "outputs_hidden": false
        },
        "nteract": {
          "transient": {
            "deleting": false
          }
        },
        "gather": {
          "logged": 1702611268236
        }
      },
      "id": "ee4467f3-8710-4e5a-bbf7-58a571a78f43"
    },
    {
      "cell_type": "code",
      "source": [
        "from tensorflow_privacy.privacy.privacy_tests.membership_inference_attack.data_structures import AttackInputData\n",
        "from tensorflow_privacy.privacy.privacy_tests.membership_inference_attack.data_structures import SlicingSpec\n",
        "from tensorflow_privacy.privacy.privacy_tests.membership_inference_attack.data_structures import AttackType\n",
        "\n",
        "import tensorflow_privacy.privacy.privacy_tests.membership_inference_attack.plotting as plotting\n",
        "from tensorflow_privacy.privacy.privacy_tests.membership_inference_attack import membership_inference_attack as mia\n",
        "\n",
        "import warnings\n",
        "warnings.filterwarnings(\"ignore\")\n",
        "\n",
        "labels_train = np.argmax(to_categorical(y_train_retain), axis=1)\n",
        "labels_test = np.argmax(adjusted_y_train_forget, axis=1)\n",
        "\n",
        "input = AttackInputData(\n",
        "  logits_train = logits_train,\n",
        "  logits_test = logits_test,\n",
        "  loss_train = loss_train,\n",
        "  loss_test = loss_test,\n",
        "  labels_train = labels_train,\n",
        "  labels_test = labels_test\n",
        ")\n",
        "\n",
        "# Run several attacks for different data slices\n",
        "attacks_result = mia.run_attacks(input,\n",
        "                                SlicingSpec(entire_dataset = True),\n",
        "                                attack_types = [\n",
        "                                    #AttackType.THRESHOLD_ATTACK,\n",
        "                                    AttackType.LOGISTIC_REGRESSION])\n",
        "                                    #AttackType.THRESHOLD_ENTROPY_ATTACK,\n",
        "                                    #AttackType.MULTI_LAYERED_PERCEPTRON])\n",
        "\n",
        "\n",
        "# Plot the ROC curve of the best classifier\n",
        "fig = plotting.plot_roc_curve(\n",
        "    attacks_result.get_result_with_max_auc().roc_curve)\n",
        "\n",
        "print(attacks_result.summary(by_slices=True))\n"
      ],
      "outputs": [
        {
          "output_type": "stream",
          "name": "stdout",
          "text": "Best-performing attacks over all slices\n  LOGISTIC_REGRESSION (with 49990 training and 10 test examples) achieved an AUC of 0.85 on slice Entire dataset\n  LOGISTIC_REGRESSION (with 49990 training and 10 test examples) achieved an advantage of 0.64 on slice Entire dataset\n  LOGISTIC_REGRESSION (with 49990 training and 10 test examples) achieved a positive predictive value of 1.00 on slice Entire dataset\n  LOGISTIC_REGRESSION (with 49990 training and 10 test examples) achieved top-5 epsilon lower bounds of 1.3087, 1.3086, 1.3085, 1.3084, 1.3082 on slice Entire dataset\n"
        },
        {
          "output_type": "display_data",
          "data": {
            "text/plain": "<Figure size 640x480 with 1 Axes>",
            "image/png": "[encoded data removed]"
          },
          "metadata": {}
        }
      ],
      "execution_count": 100,
      "metadata": {
        "jupyter": {
          "source_hidden": false,
          "outputs_hidden": false
        },
        "nteract": {
          "transient": {
            "deleting": false
          }
        },
        "gather": {
          "logged": 1702611402394
        }
      },
      "id": "1fb69493-e0af-401a-a7e2-8417a1504b3c"
    },
    {
      "cell_type": "markdown",
      "source": [
        "Student Teacher No Prune:"
      ],
      "metadata": {
        "nteract": {
          "transient": {
            "deleting": false
          }
        }
      },
      "id": "5e6abe61-40ae-459b-93e0-efbe5a3b77cf"
    },
    {
      "cell_type": "code",
      "source": [
        "from scipy import special\n",
        "\n",
        "student = get_model(simple=False)\n",
        "\n",
        "student.load_weights(\"student-teacher-no-prune/alpha0.8.20.hdf5\")\n",
        "\n",
        "student.compile(\n",
        "    'adam',\n",
        "    loss = 'categorical_crossentropy',\n",
        "    metrics = ['accuracy']\n",
        ")\n",
        "\n",
        "print('Predict on train...')\n",
        "logits_train = student.predict(X_train_retain, batch_size=64)\n",
        "print('Predict on test...')\n",
        "logits_test = student.predict(X_train_forget, batch_size=64)\n",
        "\n",
        "print('Apply softmax to get probabilities from logits...')\n",
        "prob_train = special.softmax(logits_train, axis=1)\n",
        "prob_test = special.softmax(logits_test, axis=1)\n",
        "\n",
        "print('Compute losses...')\n",
        "cce = tf.keras.backend.categorical_crossentropy\n",
        "constant = tf.keras.backend.constant\n",
        "\n",
        "adjusted_y_train_forget = to_categorical(y_train_forget)\n",
        "\n",
        "desired_length = 10\n",
        "\n",
        "adjusted_y_train_forget = pad_array(adjusted_y_train_forget, desired_length)\n",
        "\n",
        "loss_train = cce(constant(to_categorical(y_train_retain)), constant(prob_train), from_logits=False).numpy()\n",
        "loss_test = cce(constant(adjusted_y_train_forget), constant(prob_test), from_logits=False).numpy()"
      ],
      "outputs": [
        {
          "output_type": "stream",
          "name": "stdout",
          "text": "Predict on train...\n782/782 [==============================] - 53s 68ms/step\b\b\b\b\b\b\b\b\b\b\b\b\b\b\b\b\b\b\b\b\b\b\b\b\b\b\b\b\b\b\b\b\b\b\b\b\b\b\b\b\b\b\b\b\b\b\b\b\nPredict on test...\n1/1 [==============================] - 0s 35ms/step\b\b\b\b\b\b\b\b\b\b\b\b\b\b\b\b\b\b\b\b\b\b\b\b\b\b\b\b\b\b\b\b\b\b\b\b\b\b\b\b\b\nApply softmax to get probabilities from logits...\nCompute losses...\n"
        }
      ],
      "execution_count": 119,
      "metadata": {
        "jupyter": {
          "source_hidden": false,
          "outputs_hidden": false
        },
        "nteract": {
          "transient": {
            "deleting": false
          }
        },
        "gather": {
          "logged": 1702613293426
        }
      },
      "id": "ab4da932-7252-43aa-a5ee-91d96696e25b"
    },
    {
      "cell_type": "code",
      "source": [
        "from tensorflow_privacy.privacy.privacy_tests.membership_inference_attack.data_structures import AttackInputData\n",
        "from tensorflow_privacy.privacy.privacy_tests.membership_inference_attack.data_structures import SlicingSpec\n",
        "from tensorflow_privacy.privacy.privacy_tests.membership_inference_attack.data_structures import AttackType\n",
        "\n",
        "import tensorflow_privacy.privacy.privacy_tests.membership_inference_attack.plotting as plotting\n",
        "from tensorflow_privacy.privacy.privacy_tests.membership_inference_attack import membership_inference_attack as mia\n",
        "\n",
        "import warnings\n",
        "warnings.filterwarnings(\"ignore\")\n",
        "\n",
        "labels_train = np.argmax(to_categorical(y_train_retain), axis=1)\n",
        "labels_test = np.argmax(adjusted_y_train_forget, axis=1)\n",
        "\n",
        "input = AttackInputData(\n",
        "  logits_train = logits_train,\n",
        "  logits_test = logits_test,\n",
        "  loss_train = loss_train,\n",
        "  loss_test = loss_test,\n",
        "  labels_train = labels_train,\n",
        "  labels_test = labels_test\n",
        ")\n",
        "\n",
        "# Run several attacks for different data slices\n",
        "attacks_result = mia.run_attacks(input,\n",
        "                                SlicingSpec(entire_dataset = True),\n",
        "                                attack_types = [\n",
        "                                    #AttackType.THRESHOLD_ATTACK,\n",
        "                                    AttackType.LOGISTIC_REGRESSION])\n",
        "                                    #AttackType.THRESHOLD_ENTROPY_ATTACK,\n",
        "                                    #AttackType.MULTI_LAYERED_PERCEPTRON])\n",
        "\n",
        "\n",
        "# Plot the ROC curve of the best classifier\n",
        "fig = plotting.plot_roc_curve(\n",
        "    attacks_result.get_result_with_max_auc().roc_curve)\n",
        "\n",
        "print(attacks_result.summary(by_slices=True))\n"
      ],
      "outputs": [
        {
          "output_type": "stream",
          "name": "stdout",
          "text": "Best-performing attacks over all slices\n  LOGISTIC_REGRESSION (with 49990 training and 10 test examples) achieved an AUC of 0.77 on slice Entire dataset\n  LOGISTIC_REGRESSION (with 49990 training and 10 test examples) achieved an advantage of 0.70 on slice Entire dataset\n  LOGISTIC_REGRESSION (with 49990 training and 10 test examples) achieved a positive predictive value of 1.00 on slice Entire dataset\n  LOGISTIC_REGRESSION (with 49990 training and 10 test examples) achieved top-5 epsilon lower bounds of 1.8020, 1.8018, 1.8016, 1.8014, 1.8012 on slice Entire dataset\n"
        },
        {
          "output_type": "display_data",
          "data": {
            "text/plain": "<Figure size 640x480 with 1 Axes>",
            "image/png": "[encoded data removed]"
          },
          "metadata": {}
        }
      ],
      "execution_count": 134,
      "metadata": {
        "jupyter": {
          "source_hidden": false,
          "outputs_hidden": false
        },
        "nteract": {
          "transient": {
            "deleting": false
          }
        },
        "gather": {
          "logged": 1702613449361
        },
        "editable": false,
        "run_control": {
          "frozen": true
        }
      },
      "id": "8b85dd09-2b3f-4192-8a1e-e1c99b2c212b"
    },
    {
      "cell_type": "code",
      "source": [
        "from scipy import special\n",
        "\n",
        "student = get_model(simple=False)\n",
        "\n",
        "student.load_weights(\"student-teacher-no-prune/alpha0.5.20.hdf5\")\n",
        "\n",
        "student.compile(\n",
        "    'adam',\n",
        "    loss = 'categorical_crossentropy',\n",
        "    metrics = ['accuracy']\n",
        ")\n",
        "\n",
        "print('Predict on train...')\n",
        "logits_train = student.predict(X_train_retain, batch_size=64)\n",
        "print('Predict on test...')\n",
        "logits_test = student.predict(X_train_forget, batch_size=64)\n",
        "\n",
        "print('Apply softmax to get probabilities from logits...')\n",
        "prob_train = special.softmax(logits_train, axis=1)\n",
        "prob_test = special.softmax(logits_test, axis=1)\n",
        "\n",
        "print('Compute losses...')\n",
        "cce = tf.keras.backend.categorical_crossentropy\n",
        "constant = tf.keras.backend.constant\n",
        "\n",
        "adjusted_y_train_forget = to_categorical(y_train_forget)\n",
        "\n",
        "desired_length = 10\n",
        "\n",
        "adjusted_y_train_forget = pad_array(adjusted_y_train_forget, desired_length)\n",
        "\n",
        "loss_train = cce(constant(to_categorical(y_train_retain)), constant(prob_train), from_logits=False).numpy()\n",
        "loss_test = cce(constant(adjusted_y_train_forget), constant(prob_test), from_logits=False).numpy()"
      ],
      "outputs": [
        {
          "output_type": "stream",
          "name": "stdout",
          "text": "Predict on train...\n782/782 [==============================] - 47s 61ms/step\b\b\b\b\b\b\b\b\b\b\b\b\b\b\b\b\b\b\b\b\b\b\b\b\b\b\b\b\b\b\b\b\b\b\b\b\b\b\b\b\b\b\b\b\b\b\b\b\nPredict on test...\n1/1 [==============================] - 0s 27ms/step\b\b\b\b\b\b\b\b\b\b\b\b\b\b\b\b\b\b\b\b\b\b\b\b\b\b\b\b\b\b\b\b\b\b\b\b\b\b\b\b\b\nApply softmax to get probabilities from logits...\nCompute losses...\n"
        }
      ],
      "execution_count": 108,
      "metadata": {
        "jupyter": {
          "source_hidden": false,
          "outputs_hidden": false
        },
        "nteract": {
          "transient": {
            "deleting": false
          }
        },
        "gather": {
          "logged": 1702612840004
        }
      },
      "id": "2c868801-84b8-48ac-9f03-7f509e19f22a"
    },
    {
      "cell_type": "code",
      "source": [
        "from tensorflow_privacy.privacy.privacy_tests.membership_inference_attack.data_structures import AttackInputData\n",
        "from tensorflow_privacy.privacy.privacy_tests.membership_inference_attack.data_structures import SlicingSpec\n",
        "from tensorflow_privacy.privacy.privacy_tests.membership_inference_attack.data_structures import AttackType\n",
        "\n",
        "import tensorflow_privacy.privacy.privacy_tests.membership_inference_attack.plotting as plotting\n",
        "from tensorflow_privacy.privacy.privacy_tests.membership_inference_attack import membership_inference_attack as mia\n",
        "\n",
        "import warnings\n",
        "warnings.filterwarnings(\"ignore\")\n",
        "\n",
        "labels_train = np.argmax(to_categorical(y_train_retain), axis=1)\n",
        "labels_test = np.argmax(adjusted_y_train_forget, axis=1)\n",
        "\n",
        "input = AttackInputData(\n",
        "  logits_train = logits_train,\n",
        "  logits_test = logits_test,\n",
        "  loss_train = loss_train,\n",
        "  loss_test = loss_test,\n",
        "  labels_train = labels_train,\n",
        "  labels_test = labels_test\n",
        ")\n",
        "\n",
        "# Run several attacks for different data slices\n",
        "attacks_result = mia.run_attacks(input,\n",
        "                                SlicingSpec(entire_dataset = True),\n",
        "                                attack_types = [\n",
        "                                    #AttackType.THRESHOLD_ATTACK,\n",
        "                                    AttackType.LOGISTIC_REGRESSION])\n",
        "                                    #AttackType.THRESHOLD_ENTROPY_ATTACK,\n",
        "                                    #AttackType.MULTI_LAYERED_PERCEPTRON])\n",
        "\n",
        "\n",
        "# Plot the ROC curve of the best classifier\n",
        "fig = plotting.plot_roc_curve(\n",
        "    attacks_result.get_result_with_max_auc().roc_curve)\n",
        "\n",
        "print(attacks_result.summary(by_slices=True))\n"
      ],
      "outputs": [
        {
          "output_type": "stream",
          "name": "stdout",
          "text": "Best-performing attacks over all slices\n  LOGISTIC_REGRESSION (with 49990 training and 10 test examples) achieved an AUC of 0.86 on slice Entire dataset\n  LOGISTIC_REGRESSION (with 49990 training and 10 test examples) achieved an advantage of 0.80 on slice Entire dataset\n  LOGISTIC_REGRESSION (with 49990 training and 10 test examples) achieved a positive predictive value of 1.00 on slice Entire dataset\n  LOGISTIC_REGRESSION (with 49990 training and 10 test examples) achieved top-5 epsilon lower bounds of 1.9956, 1.9954, 1.9952, 1.9950, 1.9948 on slice Entire dataset\n"
        },
        {
          "output_type": "display_data",
          "data": {
            "text/plain": "<Figure size 640x480 with 1 Axes>",
            "image/png": "[encoded data removed]"
          },
          "metadata": {}
        }
      ],
      "execution_count": 137,
      "metadata": {
        "jupyter": {
          "source_hidden": false,
          "outputs_hidden": false
        },
        "nteract": {
          "transient": {
            "deleting": false
          }
        },
        "gather": {
          "logged": 1702613586488
        }
      },
      "id": "ee49ffda-c3f7-4633-890c-00b8f810d0d6"
    },
    {
      "cell_type": "code",
      "source": [
        "from scipy import special\n",
        "\n",
        "student = get_model(simple=False)\n",
        "\n",
        "student.load_weights(\"student-teacher-no-prune/alpha0.25.20.hdf5\")\n",
        "\n",
        "student.compile(\n",
        "    'adam',\n",
        "    loss = 'categorical_crossentropy',\n",
        "    metrics = ['accuracy']\n",
        ")\n",
        "\n",
        "print('Predict on train...')\n",
        "logits_train = student.predict(X_train_retain, batch_size=64)\n",
        "print('Predict on test...')\n",
        "logits_test = student.predict(X_train_forget, batch_size=64)\n",
        "\n",
        "print('Apply softmax to get probabilities from logits...')\n",
        "prob_train = special.softmax(logits_train, axis=1)\n",
        "prob_test = special.softmax(logits_test, axis=1)\n",
        "\n",
        "print('Compute losses...')\n",
        "cce = tf.keras.backend.categorical_crossentropy\n",
        "constant = tf.keras.backend.constant\n",
        "\n",
        "adjusted_y_train_forget = to_categorical(y_train_forget)\n",
        "\n",
        "desired_length = 10\n",
        "\n",
        "adjusted_y_train_forget = pad_array(adjusted_y_train_forget, desired_length)\n",
        "\n",
        "loss_train = cce(constant(to_categorical(y_train_retain)), constant(prob_train), from_logits=False).numpy()\n",
        "loss_test = cce(constant(adjusted_y_train_forget), constant(prob_test), from_logits=False).numpy()"
      ],
      "outputs": [
        {
          "output_type": "stream",
          "name": "stdout",
          "text": "Predict on train...\n782/782 [==============================] - 52s 66ms/step\b\b\b\b\b\b\b\b\b\b\b\b\b\b\b\b\b\b\b\b\b\b\b\b\b\b\b\b\b\b\b\b\b\b\b\b\b\b\b\b\b\b\b\b\b\b\b\b\nPredict on test...\n1/1 [==============================] - 0s 31ms/step\b\b\b\b\b\b\b\b\b\b\b\b\b\b\b\b\b\b\b\b\b\b\b\b\b\b\b\b\b\b\b\b\b\b\b\b\b\b\b\b\b\nApply softmax to get probabilities from logits...\nCompute losses...\n"
        }
      ],
      "execution_count": 135,
      "metadata": {
        "jupyter": {
          "source_hidden": false,
          "outputs_hidden": false
        },
        "nteract": {
          "transient": {
            "deleting": false
          }
        },
        "gather": {
          "logged": 1702613530542
        }
      },
      "id": "5164988f-f2d1-4020-9d52-5434d823436b"
    },
    {
      "cell_type": "code",
      "source": [
        "from tensorflow_privacy.privacy.privacy_tests.membership_inference_attack.data_structures import AttackInputData\n",
        "from tensorflow_privacy.privacy.privacy_tests.membership_inference_attack.data_structures import SlicingSpec\n",
        "from tensorflow_privacy.privacy.privacy_tests.membership_inference_attack.data_structures import AttackType\n",
        "\n",
        "import tensorflow_privacy.privacy.privacy_tests.membership_inference_attack.plotting as plotting\n",
        "from tensorflow_privacy.privacy.privacy_tests.membership_inference_attack import membership_inference_attack as mia\n",
        "\n",
        "import warnings\n",
        "warnings.filterwarnings(\"ignore\")\n",
        "\n",
        "labels_train = np.argmax(to_categorical(y_train_retain), axis=1)\n",
        "labels_test = np.argmax(adjusted_y_train_forget, axis=1)\n",
        "\n",
        "input = AttackInputData(\n",
        "  logits_train = logits_train,\n",
        "  logits_test = logits_test,\n",
        "  loss_train = loss_train,\n",
        "  loss_test = loss_test,\n",
        "  labels_train = labels_train,\n",
        "  labels_test = labels_test\n",
        ")\n",
        "\n",
        "# Run several attacks for different data slices\n",
        "attacks_result = mia.run_attacks(input,\n",
        "                                SlicingSpec(entire_dataset = True),\n",
        "                                attack_types = [\n",
        "                                    #AttackType.THRESHOLD_ATTACK,\n",
        "                                    AttackType.LOGISTIC_REGRESSION])\n",
        "                                    #AttackType.THRESHOLD_ENTROPY_ATTACK,\n",
        "                                    #AttackType.MULTI_LAYERED_PERCEPTRON])\n",
        "\n",
        "\n",
        "# Plot the ROC curve of the best classifier\n",
        "fig = plotting.plot_roc_curve(\n",
        "    attacks_result.get_result_with_max_auc().roc_curve)\n",
        "\n",
        "print(attacks_result.summary(by_slices=True))\n"
      ],
      "outputs": [
        {
          "output_type": "stream",
          "name": "stdout",
          "text": "Best-performing attacks over all slices\n  LOGISTIC_REGRESSION (with 49990 training and 10 test examples) achieved an AUC of 0.91 on slice Entire dataset\n  LOGISTIC_REGRESSION (with 49990 training and 10 test examples) achieved an advantage of 0.79 on slice Entire dataset\n  LOGISTIC_REGRESSION (with 49990 training and 10 test examples) achieved a positive predictive value of 1.00 on slice Entire dataset\n  LOGISTIC_REGRESSION (with 49990 training and 10 test examples) achieved top-5 epsilon lower bounds of 1.9682, 1.9680, 1.9678, 1.9676, 1.9674 on slice Entire dataset\n"
        },
        {
          "output_type": "display_data",
          "data": {
            "text/plain": "<Figure size 640x480 with 1 Axes>",
            "image/png": "[encoded data removed]"
          },
          "metadata": {}
        }
      ],
      "execution_count": 136,
      "metadata": {
        "jupyter": {
          "source_hidden": false,
          "outputs_hidden": false
        },
        "nteract": {
          "transient": {
            "deleting": false
          }
        },
        "gather": {
          "logged": 1702613531382
        },
        "editable": false,
        "run_control": {
          "frozen": true
        }
      },
      "id": "dfd25600-61f9-4f31-9b68-11b051ddb0fc"
    },
    {
      "cell_type": "markdown",
      "source": [
        "Student Teacher with Pruning:"
      ],
      "metadata": {
        "nteract": {
          "transient": {
            "deleting": false
          }
        }
      },
      "id": "044b28cb-724f-457d-a406-2bf3ce762384"
    },
    {
      "cell_type": "code",
      "source": [
        "from scipy import special\n",
        "\n",
        "student = get_model(simple=False)\n",
        "\n",
        "student.load_weights(\"student-teacher-prune/prune0.05.alpha0.8.20.hdf5\")\n",
        "\n",
        "student.compile(\n",
        "    'adam',\n",
        "    loss = 'categorical_crossentropy',\n",
        "    metrics = ['accuracy']\n",
        ")\n",
        "\n",
        "print('Predict on train...')\n",
        "logits_train = student.predict(X_train_retain, batch_size=64)\n",
        "print('Predict on test...')\n",
        "logits_test = student.predict(X_train_forget, batch_size=64)\n",
        "\n",
        "print('Apply softmax to get probabilities from logits...')\n",
        "prob_train = special.softmax(logits_train, axis=1)\n",
        "prob_test = special.softmax(logits_test, axis=1)\n",
        "\n",
        "print('Compute losses...')\n",
        "cce = tf.keras.backend.categorical_crossentropy\n",
        "constant = tf.keras.backend.constant\n",
        "\n",
        "adjusted_y_train_forget = to_categorical(y_train_forget)\n",
        "\n",
        "desired_length = 10\n",
        "\n",
        "adjusted_y_train_forget = pad_array(adjusted_y_train_forget, desired_length)\n",
        "\n",
        "loss_train = cce(constant(to_categorical(y_train_retain)), constant(prob_train), from_logits=False).numpy()\n",
        "loss_test = cce(constant(adjusted_y_train_forget), constant(prob_test), from_logits=False).numpy()"
      ],
      "outputs": [
        {
          "output_type": "stream",
          "name": "stdout",
          "text": "Predict on train...\n782/782 [==============================] - 55s 70ms/step\b\b\b\b\b\b\b\b\b\b\b\b\b\b\b\b\b\b\b\b\b\b\b\b\b\b\b\b\b\b\b\b\b\b\b\b\b\b\b\b\b\b\b\b\b\b\b\b\nPredict on test...\n1/1 [==============================] - 0s 40ms/step\b\b\b\b\b\b\b\b\b\b\b\b\b\b\b\b\b\b\b\b\b\b\b\b\b\b\b\b\b\b\b\b\b\b\b\b\b\b\b\b\b\nApply softmax to get probabilities from logits...\nCompute losses...\n"
        }
      ],
      "execution_count": 15,
      "metadata": {
        "jupyter": {
          "source_hidden": false,
          "outputs_hidden": false
        },
        "nteract": {
          "transient": {
            "deleting": false
          }
        },
        "gather": {
          "logged": 1702618042043
        }
      },
      "id": "1ad586da-3314-48db-91c0-e14f5878ea97"
    },
    {
      "cell_type": "code",
      "source": [
        "from tensorflow_privacy.privacy.privacy_tests.membership_inference_attack.data_structures import AttackInputData\n",
        "from tensorflow_privacy.privacy.privacy_tests.membership_inference_attack.data_structures import SlicingSpec\n",
        "from tensorflow_privacy.privacy.privacy_tests.membership_inference_attack.data_structures import AttackType\n",
        "\n",
        "import tensorflow_privacy.privacy.privacy_tests.membership_inference_attack.plotting as plotting\n",
        "from tensorflow_privacy.privacy.privacy_tests.membership_inference_attack import membership_inference_attack as mia\n",
        "\n",
        "import warnings\n",
        "warnings.filterwarnings(\"ignore\")\n",
        "\n",
        "labels_train = np.argmax(to_categorical(y_train_retain), axis=1)\n",
        "labels_test = np.argmax(adjusted_y_train_forget, axis=1)\n",
        "\n",
        "input = AttackInputData(\n",
        "  logits_train = logits_train,\n",
        "  logits_test = logits_test,\n",
        "  loss_train = loss_train,\n",
        "  loss_test = loss_test,\n",
        "  labels_train = labels_train,\n",
        "  labels_test = labels_test\n",
        ")\n",
        "\n",
        "# Run several attacks for different data slices\n",
        "attacks_result = mia.run_attacks(input,\n",
        "                                SlicingSpec(entire_dataset = True),\n",
        "                                attack_types = [\n",
        "                                    #AttackType.THRESHOLD_ATTACK,\n",
        "                                    AttackType.LOGISTIC_REGRESSION])\n",
        "                                    #AttackType.THRESHOLD_ENTROPY_ATTACK,\n",
        "                                    #AttackType.MULTI_LAYERED_PERCEPTRON])\n",
        "\n",
        "\n",
        "# Plot the ROC curve of the best classifier\n",
        "fig = plotting.plot_roc_curve(\n",
        "    attacks_result.get_result_with_max_auc().roc_curve)\n",
        "\n",
        "print(attacks_result.summary(by_slices=True))\n"
      ],
      "outputs": [
        {
          "output_type": "stream",
          "name": "stdout",
          "text": "Best-performing attacks over all slices\n  LOGISTIC_REGRESSION (with 49990 training and 10 test examples) achieved an AUC of 0.75 on slice Entire dataset\n  LOGISTIC_REGRESSION (with 49990 training and 10 test examples) achieved an advantage of 0.70 on slice Entire dataset\n  LOGISTIC_REGRESSION (with 49990 training and 10 test examples) achieved a positive predictive value of 1.00 on slice Entire dataset\n  LOGISTIC_REGRESSION (with 49990 training and 10 test examples) achieved top-5 epsilon lower bounds of 1.0360, 1.0359, 1.0359, 1.0358, 1.0357 on slice Entire dataset\n"
        },
        {
          "output_type": "display_data",
          "data": {
            "text/plain": "<Figure size 640x480 with 1 Axes>",
            "image/png": "[encoded data removed]"
          },
          "metadata": {}
        }
      ],
      "execution_count": 23,
      "metadata": {
        "jupyter": {
          "source_hidden": false,
          "outputs_hidden": false
        },
        "nteract": {
          "transient": {
            "deleting": false
          }
        },
        "gather": {
          "logged": 1702618715472
        }
      },
      "id": "db80b0ba-a6a8-4169-8b59-5ddd2d37f425"
    },
    {
      "cell_type": "code",
      "source": [
        "from scipy import special\n",
        "\n",
        "student = get_model(simple=False)\n",
        "\n",
        "student.load_weights(\"student-teacher-prune/prune0.1.alpha0.25.20.hdf5\")\n",
        "\n",
        "student.compile(\n",
        "    'adam',\n",
        "    loss = 'categorical_crossentropy',\n",
        "    metrics = ['accuracy']\n",
        ")\n",
        "\n",
        "print('Predict on train...')\n",
        "logits_train = student.predict(X_train_retain, batch_size=64)\n",
        "print('Predict on test...')\n",
        "logits_test = student.predict(X_train_forget, batch_size=64)\n",
        "\n",
        "print('Apply softmax to get probabilities from logits...')\n",
        "prob_train = special.softmax(logits_train, axis=1)\n",
        "prob_test = special.softmax(logits_test, axis=1)\n",
        "\n",
        "print('Compute losses...')\n",
        "cce = tf.keras.backend.categorical_crossentropy\n",
        "constant = tf.keras.backend.constant\n",
        "\n",
        "adjusted_y_train_forget = to_categorical(y_train_forget)\n",
        "\n",
        "desired_length = 10\n",
        "\n",
        "adjusted_y_train_forget = pad_array(adjusted_y_train_forget, desired_length)\n",
        "\n",
        "loss_train = cce(constant(to_categorical(y_train_retain)), constant(prob_train), from_logits=False).numpy()\n",
        "loss_test = cce(constant(adjusted_y_train_forget), constant(prob_test), from_logits=False).numpy()"
      ],
      "outputs": [
        {
          "output_type": "stream",
          "name": "stdout",
          "text": "Predict on train...\n782/782 [==============================] - 53s 68ms/step\b\b\b\b\b\b\b\b\b\b\b\b\b\b\b\b\b\b\b\b\b\b\b\b\b\b\b\b\b\b\b\b\b\b\b\b\b\b\b\b\b\b\b\b\b\b\b\b\nPredict on test...\n1/1 [==============================] - 0s 32ms/step\b\b\b\b\b\b\b\b\b\b\b\b\b\b\b\b\b\b\b\b\b\b\b\b\b\b\b\b\b\b\b\b\b\b\b\b\b\b\b\b\b\nApply softmax to get probabilities from logits...\nCompute losses...\n"
        }
      ],
      "execution_count": 18,
      "metadata": {
        "jupyter": {
          "source_hidden": false,
          "outputs_hidden": false
        },
        "nteract": {
          "transient": {
            "deleting": false
          }
        },
        "gather": {
          "logged": 1702618254496
        }
      },
      "id": "8ba1c953-db7f-4d6e-9b12-e70d15eedf55"
    },
    {
      "cell_type": "code",
      "source": [
        "from tensorflow_privacy.privacy.privacy_tests.membership_inference_attack.data_structures import AttackInputData\n",
        "from tensorflow_privacy.privacy.privacy_tests.membership_inference_attack.data_structures import SlicingSpec\n",
        "from tensorflow_privacy.privacy.privacy_tests.membership_inference_attack.data_structures import AttackType\n",
        "\n",
        "import tensorflow_privacy.privacy.privacy_tests.membership_inference_attack.plotting as plotting\n",
        "from tensorflow_privacy.privacy.privacy_tests.membership_inference_attack import membership_inference_attack as mia\n",
        "\n",
        "import warnings\n",
        "warnings.filterwarnings(\"ignore\")\n",
        "\n",
        "labels_train = np.argmax(to_categorical(y_train_retain), axis=1)\n",
        "labels_test = np.argmax(adjusted_y_train_forget, axis=1)\n",
        "\n",
        "input = AttackInputData(\n",
        "  logits_train = logits_train,\n",
        "  logits_test = logits_test,\n",
        "  loss_train = loss_train,\n",
        "  loss_test = loss_test,\n",
        "  labels_train = labels_train,\n",
        "  labels_test = labels_test\n",
        ")\n",
        "\n",
        "# Run several attacks for different data slices\n",
        "attacks_result = mia.run_attacks(input,\n",
        "                                SlicingSpec(entire_dataset = True),\n",
        "                                attack_types = [\n",
        "                                    #AttackType.THRESHOLD_ATTACK,\n",
        "                                    AttackType.LOGISTIC_REGRESSION])\n",
        "                                    #AttackType.THRESHOLD_ENTROPY_ATTACK,\n",
        "                                    #AttackType.MULTI_LAYERED_PERCEPTRON])\n",
        "\n",
        "\n",
        "# Plot the ROC curve of the best classifier\n",
        "fig = plotting.plot_roc_curve(\n",
        "    attacks_result.get_result_with_max_auc().roc_curve)\n",
        "\n",
        "print(attacks_result.summary(by_slices=True))\n"
      ],
      "outputs": [
        {
          "output_type": "stream",
          "name": "stdout",
          "text": "Best-performing attacks over all slices\n  LOGISTIC_REGRESSION (with 49990 training and 10 test examples) achieved an AUC of 0.70 on slice Entire dataset\n  LOGISTIC_REGRESSION (with 49990 training and 10 test examples) achieved an advantage of 0.61 on slice Entire dataset\n  LOGISTIC_REGRESSION (with 49990 training and 10 test examples) achieved a positive predictive value of 1.00 on slice Entire dataset\n  LOGISTIC_REGRESSION (with 49990 training and 10 test examples) achieved top-5 epsilon lower bounds of 0.8253, 0.8252, 0.8252, 0.8251, 0.8251 on slice Entire dataset\n"
        },
        {
          "output_type": "display_data",
          "data": {
            "text/plain": "<Figure size 640x480 with 1 Axes>",
            "image/png": "[encoded data removed]"
          },
          "metadata": {}
        }
      ],
      "execution_count": 81,
      "metadata": {
        "jupyter": {
          "source_hidden": false,
          "outputs_hidden": false
        },
        "nteract": {
          "transient": {
            "deleting": false
          }
        },
        "gather": {
          "logged": 1702609396118
        },
        "editable": false,
        "run_control": {
          "frozen": true
        }
      },
      "id": "aec0ec1d-745c-48d6-b2a1-1dd341ca73e4"
    },
    {
      "cell_type": "code",
      "source": [
        "from scipy import special\n",
        "\n",
        "student = get_model(simple=False)\n",
        "\n",
        "student.load_weights(\"student-teacher-prune/prune0.1.alpha0.5.20.hdf5\")\n",
        "\n",
        "student.compile(\n",
        "    'adam',\n",
        "    loss = 'categorical_crossentropy',\n",
        "    metrics = ['accuracy']\n",
        ")\n",
        "\n",
        "print('Predict on train...')\n",
        "logits_train = student.predict(X_train_retain, batch_size=64)\n",
        "print('Predict on test...')\n",
        "logits_test = student.predict(X_train_forget, batch_size=64)\n",
        "\n",
        "print('Apply softmax to get probabilities from logits...')\n",
        "prob_train = special.softmax(logits_train, axis=1)\n",
        "prob_test = special.softmax(logits_test, axis=1)\n",
        "\n",
        "print('Compute losses...')\n",
        "cce = tf.keras.backend.categorical_crossentropy\n",
        "constant = tf.keras.backend.constant\n",
        "\n",
        "adjusted_y_train_forget = to_categorical(y_train_forget)\n",
        "\n",
        "desired_length = 10\n",
        "\n",
        "adjusted_y_train_forget = pad_array(adjusted_y_train_forget, desired_length)\n",
        "\n",
        "loss_train = cce(constant(to_categorical(y_train_retain)), constant(prob_train), from_logits=False).numpy()\n",
        "loss_test = cce(constant(adjusted_y_train_forget), constant(prob_test), from_logits=False).numpy()"
      ],
      "outputs": [
        {
          "output_type": "stream",
          "name": "stdout",
          "text": "Predict on train...\n782/782 [==============================] - 54s 69ms/step\b\b\b\b\b\b\b\b\b\b\b\b\b\b\b\b\b\b\b\b\b\b\b\b\b\b\b\b\b\b\b\b\b\b\b\b\b\b\b\b\b\b\b\b\b\b\b\b\nPredict on test...\n1/1 [==============================] - 0s 43ms/step\b\b\b\b\b\b\b\b\b\b\b\b\b\b\b\b\b\b\b\b\b\b\b\b\b\b\b\b\b\b\b\b\b\b\b\b\b\b\b\b\b\nApply softmax to get probabilities from logits...\nCompute losses...\n"
        }
      ],
      "execution_count": 20,
      "metadata": {
        "jupyter": {
          "source_hidden": false,
          "outputs_hidden": false
        },
        "nteract": {
          "transient": {
            "deleting": false
          }
        },
        "gather": {
          "logged": 1702618342751
        }
      },
      "id": "77d10f9f-16f2-4507-b586-d76c1fd2f6ef"
    },
    {
      "cell_type": "code",
      "source": [
        "from tensorflow_privacy.privacy.privacy_tests.membership_inference_attack.data_structures import AttackInputData\n",
        "from tensorflow_privacy.privacy.privacy_tests.membership_inference_attack.data_structures import SlicingSpec\n",
        "from tensorflow_privacy.privacy.privacy_tests.membership_inference_attack.data_structures import AttackType\n",
        "\n",
        "import tensorflow_privacy.privacy.privacy_tests.membership_inference_attack.plotting as plotting\n",
        "from tensorflow_privacy.privacy.privacy_tests.membership_inference_attack import membership_inference_attack as mia\n",
        "\n",
        "import warnings\n",
        "warnings.filterwarnings(\"ignore\")\n",
        "\n",
        "labels_train = np.argmax(to_categorical(y_train_retain), axis=1)\n",
        "labels_test = np.argmax(adjusted_y_train_forget, axis=1)\n",
        "\n",
        "input = AttackInputData(\n",
        "  logits_train = logits_train,\n",
        "  logits_test = logits_test,\n",
        "  loss_train = loss_train,\n",
        "  loss_test = loss_test,\n",
        "  labels_train = labels_train,\n",
        "  labels_test = labels_test\n",
        ")\n",
        "\n",
        "# Run several attacks for different data slices\n",
        "attacks_result = mia.run_attacks(input,\n",
        "                                SlicingSpec(entire_dataset = True),\n",
        "                                attack_types = [\n",
        "                                    #AttackType.THRESHOLD_ATTACK,\n",
        "                                    AttackType.LOGISTIC_REGRESSION])\n",
        "                                    #AttackType.THRESHOLD_ENTROPY_ATTACK,\n",
        "                                    #AttackType.MULTI_LAYERED_PERCEPTRON])\n",
        "\n",
        "# Plot the ROC curve of the best classifier\n",
        "fig = plotting.plot_roc_curve(\n",
        "    attacks_result.get_result_with_max_auc().roc_curve)\n",
        "\n",
        "print(attacks_result.summary(by_slices=True))\n"
      ],
      "outputs": [
        {
          "output_type": "stream",
          "name": "stdout",
          "text": "Best-performing attacks over all slices\n  LOGISTIC_REGRESSION (with 49990 training and 10 test examples) achieved an AUC of 0.74 on slice Entire dataset\n  LOGISTIC_REGRESSION (with 49990 training and 10 test examples) achieved an advantage of 0.68 on slice Entire dataset\n  LOGISTIC_REGRESSION (with 49990 training and 10 test examples) achieved a positive predictive value of 1.00 on slice Entire dataset\n  LOGISTIC_REGRESSION (with 49990 training and 10 test examples) achieved top-5 epsilon lower bounds of 0.9782, 0.9781, 0.9780, 0.9780, 0.9779 on slice Entire dataset\n"
        },
        {
          "output_type": "display_data",
          "data": {
            "text/plain": "<Figure size 640x480 with 1 Axes>",
            "image/png": "[encoded data removed]"
          },
          "metadata": {}
        }
      ],
      "execution_count": 17,
      "metadata": {
        "jupyter": {
          "source_hidden": false,
          "outputs_hidden": false
        },
        "nteract": {
          "transient": {
            "deleting": false
          }
        },
        "gather": {
          "logged": 1702618132890
        }
      },
      "id": "77c59477-1df0-4892-94e4-1ad47a411027"
    },
    {
      "cell_type": "code",
      "source": [
        "from scipy import special\n",
        "\n",
        "student = get_model(simple=False)\n",
        "\n",
        "student.load_weights(\"student-teacher-prune/prune0.1.alpha0.65.20.hdf5\")\n",
        "\n",
        "student.compile(\n",
        "    'adam',\n",
        "    loss = 'categorical_crossentropy',\n",
        "    metrics = ['accuracy']\n",
        ")\n",
        "\n",
        "print('Predict on train...')\n",
        "logits_train = student.predict(X_train_retain, batch_size=64)\n",
        "print('Predict on test...')\n",
        "logits_test = student.predict(X_train_forget, batch_size=64)\n",
        "\n",
        "print('Apply softmax to get probabilities from logits...')\n",
        "prob_train = special.softmax(logits_train, axis=1)\n",
        "prob_test = special.softmax(logits_test, axis=1)\n",
        "\n",
        "print('Compute losses...')\n",
        "cce = tf.keras.backend.categorical_crossentropy\n",
        "constant = tf.keras.backend.constant\n",
        "\n",
        "adjusted_y_train_forget = to_categorical(y_train_forget)\n",
        "\n",
        "desired_length = 10\n",
        "\n",
        "adjusted_y_train_forget = pad_array(adjusted_y_train_forget, desired_length)\n",
        "\n",
        "loss_train = cce(constant(to_categorical(y_train_retain)), constant(prob_train), from_logits=False).numpy()\n",
        "loss_test = cce(constant(adjusted_y_train_forget), constant(prob_test), from_logits=False).numpy()"
      ],
      "outputs": [
        {
          "output_type": "stream",
          "name": "stdout",
          "text": "Predict on train...\n782/782 [==============================] - 55s 70ms/step\b\b\b\b\b\b\b\b\b\b\b\b\b\b\b\b\b\b\b\b\b\b\b\b\b\b\b\b\b\b\b\b\b\b\b\b\b\b\b\b\b\b\b\b\b\b\b\b\nPredict on test...\n1/1 [==============================] - 0s 31ms/step\b\b\b\b\b\b\b\b\b\b\b\b\b\b\b\b\b\b\b\b\b\b\b\b\b\b\b\b\b\b\b\b\b\b\b\b\b\b\b\b\b\nApply softmax to get probabilities from logits...\nCompute losses...\n"
        }
      ],
      "execution_count": 22,
      "metadata": {
        "jupyter": {
          "source_hidden": false,
          "outputs_hidden": false
        },
        "nteract": {
          "transient": {
            "deleting": false
          }
        },
        "gather": {
          "logged": 1702618685020
        }
      },
      "id": "54be7540-4925-4f45-b471-948a98eaf902"
    },
    {
      "cell_type": "code",
      "source": [
        "from tensorflow_privacy.privacy.privacy_tests.membership_inference_attack.data_structures import AttackInputData\n",
        "from tensorflow_privacy.privacy.privacy_tests.membership_inference_attack.data_structures import SlicingSpec\n",
        "from tensorflow_privacy.privacy.privacy_tests.membership_inference_attack.data_structures import AttackType\n",
        "\n",
        "import tensorflow_privacy.privacy.privacy_tests.membership_inference_attack.plotting as plotting\n",
        "from tensorflow_privacy.privacy.privacy_tests.membership_inference_attack import membership_inference_attack as mia\n",
        "\n",
        "import warnings\n",
        "warnings.filterwarnings(\"ignore\")\n",
        "\n",
        "labels_train = np.argmax(to_categorical(y_train_retain), axis=1)\n",
        "labels_test = np.argmax(adjusted_y_train_forget, axis=1)\n",
        "\n",
        "input = AttackInputData(\n",
        "  logits_train = logits_train,\n",
        "  logits_test = logits_test,\n",
        "  loss_train = loss_train,\n",
        "  loss_test = loss_test,\n",
        "  labels_train = labels_train,\n",
        "  labels_test = labels_test\n",
        ")\n",
        "\n",
        "# Run several attacks for different data slices\n",
        "attacks_result = mia.run_attacks(input,\n",
        "                                SlicingSpec(entire_dataset = True),\n",
        "                                attack_types = [\n",
        "                                    #AttackType.THRESHOLD_ATTACK,\n",
        "                                    AttackType.LOGISTIC_REGRESSION])\n",
        "                                    #AttackType.THRESHOLD_ENTROPY_ATTACK,\n",
        "                                    #AttackType.MULTI_LAYERED_PERCEPTRON])\n",
        "\n",
        "# Plot the ROC curve of the best classifier\n",
        "fig = plotting.plot_roc_curve(\n",
        "    attacks_result.get_result_with_max_auc().roc_curve)\n",
        "\n",
        "print(attacks_result.summary(by_slices=True))\n"
      ],
      "outputs": [
        {
          "output_type": "stream",
          "name": "stdout",
          "text": "Best-performing attacks over all slices\n  LOGISTIC_REGRESSION (with 49990 training and 10 test examples) achieved an AUC of 0.74 on slice Entire dataset\n  LOGISTIC_REGRESSION (with 49990 training and 10 test examples) achieved an advantage of 0.68 on slice Entire dataset\n  LOGISTIC_REGRESSION (with 49990 training and 10 test examples) achieved a positive predictive value of 1.00 on slice Entire dataset\n  LOGISTIC_REGRESSION (with 49990 training and 10 test examples) achieved top-5 epsilon lower bounds of 0.9650, 0.9649, 0.9648, 0.9648, 0.9647 on slice Entire dataset\n"
        },
        {
          "output_type": "display_data",
          "data": {
            "text/plain": "<Figure size 640x480 with 1 Axes>",
            "image/png": "[encoded data removed]"
          },
          "metadata": {}
        }
      ],
      "execution_count": 19,
      "metadata": {
        "jupyter": {
          "source_hidden": false,
          "outputs_hidden": false
        },
        "nteract": {
          "transient": {
            "deleting": false
          }
        },
        "gather": {
          "logged": 1702618287483
        }
      },
      "id": "a7595145-7077-4e43-8136-6a22a1d08a91"
    },
    {
      "cell_type": "code",
      "source": [],
      "outputs": [],
      "execution_count": null,
      "metadata": {
        "jupyter": {
          "source_hidden": false,
          "outputs_hidden": false
        },
        "nteract": {
          "transient": {
            "deleting": false
          }
        }
      },
      "id": "1f522856-342d-487e-9d59-f100737e9b55"
    }
  ],
  "metadata": {
    "kernelspec": {
      "name": "python310-sdkv2",
      "language": "python",
      "display_name": "Python 3.10 - SDK v2"
    },
    "language_info": {
      "name": "python",
      "version": "3.10.11",
      "mimetype": "text/x-python",
      "codemirror_mode": {
        "name": "ipython",
        "version": 3
      },
      "pygments_lexer": "ipython3",
      "nbconvert_exporter": "python",
      "file_extension": ".py"
    },
    "microsoft": {
      "ms_spell_check": {
        "ms_spell_check_language": "en"
      },
      "host": {
        "AzureML": {
          "notebookHasBeenCompleted": true
        }
      }
    },
    "kernel_info": {
      "name": "python310-sdkv2"
    },
    "nteract": {
      "version": "nteract-front-end@1.0.0"
    }
  },
  "nbformat": 4,
  "nbformat_minor": 5
}
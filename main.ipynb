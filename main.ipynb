{
 "cells": [
  {
   "cell_type": "code",
   "execution_count": 1,
   "id": "f849facb-9073-48f1-a6ed-44ae497c24a4",
   "metadata": {},
   "outputs": [
    {
     "name": "stdout",
     "output_type": "stream",
     "text": [
      "\u001b[33mWARNING: Skipping /usr/local/lib/python3.11/site-packages/six-1.16.0-py3.11.egg-info due to invalid metadata entry 'name'\u001b[0m\u001b[33m\n",
      "\u001b[0m\u001b[33mWARNING: Skipping /usr/local/lib/python3.11/site-packages/six-1.16.0-py3.11.egg-info due to invalid metadata entry 'name'\u001b[0m\u001b[33m\n",
      "\u001b[0m\u001b[33mWARNING: Skipping /usr/local/lib/python3.11/site-packages/packaging-23.2.dist-info due to invalid metadata entry 'name'\u001b[0m\u001b[33m\n",
      "\u001b[0mRequirement already satisfied: tensorflow in /usr/local/Cellar/jupyterlab/4.0.6_1/libexec/lib/python3.11/site-packages (2.14.0)\n",
      "Requirement already satisfied: absl-py>=1.0.0 in /usr/local/Cellar/jupyterlab/4.0.6_1/libexec/lib/python3.11/site-packages (from tensorflow) (2.0.0)\n",
      "Requirement already satisfied: astunparse>=1.6.0 in /usr/local/Cellar/jupyterlab/4.0.6_1/libexec/lib/python3.11/site-packages (from tensorflow) (1.6.3)\n",
      "Requirement already satisfied: flatbuffers>=23.5.26 in /usr/local/Cellar/jupyterlab/4.0.6_1/libexec/lib/python3.11/site-packages (from tensorflow) (23.5.26)\n",
      "Requirement already satisfied: gast!=0.5.0,!=0.5.1,!=0.5.2,>=0.2.1 in /usr/local/Cellar/jupyterlab/4.0.6_1/libexec/lib/python3.11/site-packages (from tensorflow) (0.5.4)\n",
      "Requirement already satisfied: google-pasta>=0.1.1 in /usr/local/Cellar/jupyterlab/4.0.6_1/libexec/lib/python3.11/site-packages (from tensorflow) (0.2.0)\n",
      "Requirement already satisfied: h5py>=2.9.0 in /usr/local/Cellar/jupyterlab/4.0.6_1/libexec/lib/python3.11/site-packages (from tensorflow) (3.10.0)\n",
      "Requirement already satisfied: libclang>=13.0.0 in /usr/local/Cellar/jupyterlab/4.0.6_1/libexec/lib/python3.11/site-packages (from tensorflow) (16.0.6)\n",
      "Requirement already satisfied: ml-dtypes==0.2.0 in /usr/local/Cellar/jupyterlab/4.0.6_1/libexec/lib/python3.11/site-packages (from tensorflow) (0.2.0)\n",
      "Requirement already satisfied: numpy>=1.23.5 in /usr/local/lib/python3.11/site-packages (from tensorflow) (1.26.0)\n",
      "Requirement already satisfied: opt-einsum>=2.3.2 in /usr/local/Cellar/jupyterlab/4.0.6_1/libexec/lib/python3.11/site-packages (from tensorflow) (3.3.0)\n",
      "Requirement already satisfied: packaging in /usr/local/opt/python-packaging/lib/python3.11/site-packages (from tensorflow) (23.2)\n",
      "Requirement already satisfied: protobuf!=4.21.0,!=4.21.1,!=4.21.2,!=4.21.3,!=4.21.4,!=4.21.5,<5.0.0dev,>=3.20.3 in /usr/local/Cellar/jupyterlab/4.0.6_1/libexec/lib/python3.11/site-packages (from tensorflow) (4.25.0)\n",
      "Requirement already satisfied: setuptools in /usr/local/lib/python3.11/site-packages (from tensorflow) (68.1.2)\n",
      "Requirement already satisfied: six>=1.12.0 in /usr/local/opt/six/lib/python3.11/site-packages (from tensorflow) (1.16.0)\n",
      "Requirement already satisfied: termcolor>=1.1.0 in /usr/local/Cellar/jupyterlab/4.0.6_1/libexec/lib/python3.11/site-packages (from tensorflow) (2.3.0)\n",
      "Requirement already satisfied: typing-extensions>=3.6.6 in /usr/local/Cellar/jupyterlab/4.0.6_1/libexec/lib/python3.11/site-packages (from tensorflow) (4.8.0)\n",
      "Requirement already satisfied: wrapt<1.15,>=1.11.0 in /usr/local/Cellar/jupyterlab/4.0.6_1/libexec/lib/python3.11/site-packages (from tensorflow) (1.14.1)\n",
      "Requirement already satisfied: tensorflow-io-gcs-filesystem>=0.23.1 in /usr/local/Cellar/jupyterlab/4.0.6_1/libexec/lib/python3.11/site-packages (from tensorflow) (0.34.0)\n",
      "Requirement already satisfied: grpcio<2.0,>=1.24.3 in /usr/local/Cellar/jupyterlab/4.0.6_1/libexec/lib/python3.11/site-packages (from tensorflow) (1.59.2)\n",
      "Requirement already satisfied: tensorboard<2.15,>=2.14 in /usr/local/Cellar/jupyterlab/4.0.6_1/libexec/lib/python3.11/site-packages (from tensorflow) (2.14.1)\n",
      "Requirement already satisfied: tensorflow-estimator<2.15,>=2.14.0 in /usr/local/Cellar/jupyterlab/4.0.6_1/libexec/lib/python3.11/site-packages (from tensorflow) (2.14.0)\n",
      "Requirement already satisfied: keras<2.15,>=2.14.0 in /usr/local/Cellar/jupyterlab/4.0.6_1/libexec/lib/python3.11/site-packages (from tensorflow) (2.14.0)\n",
      "Requirement already satisfied: wheel<1.0,>=0.23.0 in /usr/local/lib/python3.11/site-packages (from astunparse>=1.6.0->tensorflow) (0.41.2)\n",
      "Requirement already satisfied: google-auth<3,>=1.6.3 in /usr/local/Cellar/jupyterlab/4.0.6_1/libexec/lib/python3.11/site-packages (from tensorboard<2.15,>=2.14->tensorflow) (2.23.4)\n",
      "Requirement already satisfied: google-auth-oauthlib<1.1,>=0.5 in /usr/local/Cellar/jupyterlab/4.0.6_1/libexec/lib/python3.11/site-packages (from tensorboard<2.15,>=2.14->tensorflow) (1.0.0)\n",
      "Requirement already satisfied: markdown>=2.6.8 in /usr/local/Cellar/jupyterlab/4.0.6_1/libexec/lib/python3.11/site-packages (from tensorboard<2.15,>=2.14->tensorflow) (3.5.1)\n",
      "Requirement already satisfied: requests<3,>=2.21.0 in /usr/local/Cellar/jupyterlab/4.0.6_1/libexec/lib/python3.11/site-packages (from tensorboard<2.15,>=2.14->tensorflow) (2.31.0)\n",
      "Requirement already satisfied: tensorboard-data-server<0.8.0,>=0.7.0 in /usr/local/Cellar/jupyterlab/4.0.6_1/libexec/lib/python3.11/site-packages (from tensorboard<2.15,>=2.14->tensorflow) (0.7.2)\n",
      "Requirement already satisfied: werkzeug>=1.0.1 in /usr/local/Cellar/jupyterlab/4.0.6_1/libexec/lib/python3.11/site-packages (from tensorboard<2.15,>=2.14->tensorflow) (3.0.1)\n",
      "Requirement already satisfied: cachetools<6.0,>=2.0.0 in /usr/local/Cellar/jupyterlab/4.0.6_1/libexec/lib/python3.11/site-packages (from google-auth<3,>=1.6.3->tensorboard<2.15,>=2.14->tensorflow) (5.3.2)\n",
      "Requirement already satisfied: pyasn1-modules>=0.2.1 in /usr/local/Cellar/jupyterlab/4.0.6_1/libexec/lib/python3.11/site-packages (from google-auth<3,>=1.6.3->tensorboard<2.15,>=2.14->tensorflow) (0.3.0)\n",
      "Requirement already satisfied: rsa<5,>=3.1.4 in /usr/local/Cellar/jupyterlab/4.0.6_1/libexec/lib/python3.11/site-packages (from google-auth<3,>=1.6.3->tensorboard<2.15,>=2.14->tensorflow) (4.9)\n",
      "Requirement already satisfied: requests-oauthlib>=0.7.0 in /usr/local/Cellar/jupyterlab/4.0.6_1/libexec/lib/python3.11/site-packages (from google-auth-oauthlib<1.1,>=0.5->tensorboard<2.15,>=2.14->tensorflow) (1.3.1)\n",
      "Requirement already satisfied: charset-normalizer<4,>=2 in /usr/local/Cellar/jupyterlab/4.0.6_1/libexec/lib/python3.11/site-packages (from requests<3,>=2.21.0->tensorboard<2.15,>=2.14->tensorflow) (3.3.0)\n",
      "Requirement already satisfied: idna<4,>=2.5 in /usr/local/Cellar/jupyterlab/4.0.6_1/libexec/lib/python3.11/site-packages (from requests<3,>=2.21.0->tensorboard<2.15,>=2.14->tensorflow) (3.4)\n",
      "Requirement already satisfied: urllib3<3,>=1.21.1 in /usr/local/Cellar/jupyterlab/4.0.6_1/libexec/lib/python3.11/site-packages (from requests<3,>=2.21.0->tensorboard<2.15,>=2.14->tensorflow) (2.0.6)\n",
      "Requirement already satisfied: certifi>=2017.4.17 in /usr/local/opt/python-certifi/lib/python3.11/site-packages (from requests<3,>=2.21.0->tensorboard<2.15,>=2.14->tensorflow) (2023.7.22)\n",
      "Requirement already satisfied: MarkupSafe>=2.1.1 in /usr/local/Cellar/jupyterlab/4.0.6_1/libexec/lib/python3.11/site-packages (from werkzeug>=1.0.1->tensorboard<2.15,>=2.14->tensorflow) (2.1.3)\n",
      "Requirement already satisfied: pyasn1<0.6.0,>=0.4.6 in /usr/local/Cellar/jupyterlab/4.0.6_1/libexec/lib/python3.11/site-packages (from pyasn1-modules>=0.2.1->google-auth<3,>=1.6.3->tensorboard<2.15,>=2.14->tensorflow) (0.5.0)\n",
      "Requirement already satisfied: oauthlib>=3.0.0 in /usr/local/Cellar/jupyterlab/4.0.6_1/libexec/lib/python3.11/site-packages (from requests-oauthlib>=0.7.0->google-auth-oauthlib<1.1,>=0.5->tensorboard<2.15,>=2.14->tensorflow) (3.2.2)\n",
      "\u001b[33mWARNING: Skipping /usr/local/lib/python3.11/site-packages/six-1.16.0-py3.11.egg-info due to invalid metadata entry 'name'\u001b[0m\u001b[33m\n",
      "\u001b[0m\u001b[33mWARNING: Skipping /usr/local/lib/python3.11/site-packages/packaging-23.2.dist-info due to invalid metadata entry 'name'\u001b[0m\u001b[33m\n",
      "\u001b[0m\u001b[33mWARNING: Skipping /usr/local/lib/python3.11/site-packages/six-1.16.0-py3.11.egg-info due to invalid metadata entry 'name'\u001b[0m\u001b[33m\n",
      "\u001b[0mNote: you may need to restart the kernel to use updated packages.\n"
     ]
    }
   ],
   "source": [
    "pip install tensorflow"
   ]
  },
  {
   "cell_type": "code",
   "execution_count": 2,
   "id": "f3b6eac4-59d0-4106-9e87-a36c5ef5d226",
   "metadata": {},
   "outputs": [
    {
     "name": "stdout",
     "output_type": "stream",
     "text": [
      "\u001b[33mWARNING: Skipping /usr/local/lib/python3.11/site-packages/six-1.16.0-py3.11.egg-info due to invalid metadata entry 'name'\u001b[0m\u001b[33m\n",
      "\u001b[0m\u001b[33mWARNING: Skipping /usr/local/lib/python3.11/site-packages/six-1.16.0-py3.11.egg-info due to invalid metadata entry 'name'\u001b[0m\u001b[33m\n",
      "\u001b[0m\u001b[33mWARNING: Skipping /usr/local/lib/python3.11/site-packages/packaging-23.2.dist-info due to invalid metadata entry 'name'\u001b[0m\u001b[33m\n",
      "\u001b[0mRequirement already satisfied: keras in /usr/local/Cellar/jupyterlab/4.0.6_1/libexec/lib/python3.11/site-packages (2.14.0)\n",
      "\u001b[33mWARNING: Skipping /usr/local/lib/python3.11/site-packages/six-1.16.0-py3.11.egg-info due to invalid metadata entry 'name'\u001b[0m\u001b[33m\n",
      "\u001b[0m\u001b[33mWARNING: Skipping /usr/local/lib/python3.11/site-packages/packaging-23.2.dist-info due to invalid metadata entry 'name'\u001b[0m\u001b[33m\n",
      "\u001b[0m\u001b[33mWARNING: Skipping /usr/local/lib/python3.11/site-packages/six-1.16.0-py3.11.egg-info due to invalid metadata entry 'name'\u001b[0m\u001b[33m\n",
      "\u001b[0mNote: you may need to restart the kernel to use updated packages.\n"
     ]
    }
   ],
   "source": [
    "pip install keras"
   ]
  },
  {
   "cell_type": "markdown",
   "id": "8f4af8a0-a2b1-4237-a88a-129f8ed9bd16",
   "metadata": {},
   "source": [
    "# Data Import and Split\n",
    "\n",
    "Importing in data of cifar 10 (10 classes, ~60k images). I want to do a 80-10-10 train-test-val split to make sure that I have enough training data since this isn't particularly large but also want to make sure that the proportion of each class stays the same within each set."
   ]
  },
  {
   "cell_type": "code",
   "execution_count": 41,
   "id": "80b8723e-aa60-46b8-b62c-071f91159e8e",
   "metadata": {},
   "outputs": [],
   "source": [
    "import numpy as np\n",
    "\n",
    "from keras.datasets import cifar10\n",
    "from keras.utils import to_categorical   \n",
    "from sklearn.model_selection import train_test_split\n",
    "\n",
    "def load_cifar10():\n",
    "\n",
    "    (X_train, y_train), (X_test_val, y_test_val) = cifar10.load_data()\n",
    "    X_val, X_test, y_val, y_test = train_test_split(X_test_val, y_test_val, test_size=0.5, shuffle=True, stratify=y_test_val)\n",
    "\n",
    "    return X_train, y_train, X_val, X_test, y_val, y_test\n"
   ]
  },
  {
   "cell_type": "code",
   "execution_count": 42,
   "id": "e68e59d1-220a-44db-a45e-80799934ec86",
   "metadata": {},
   "outputs": [
    {
     "name": "stdout",
     "output_type": "stream",
     "text": [
      "(50000, 32, 32, 3)\n",
      "(50000, 1)\n",
      "(5000, 32, 32, 3)\n",
      "(5000, 1)\n",
      "(5000, 32, 32, 3)\n",
      "(5000, 1)\n"
     ]
    }
   ],
   "source": [
    "X_train, y_train, X_val, X_test, y_val, y_test = load_cifar10()\n",
    "print(X_train.shape)\n",
    "print(y_train.shape)\n",
    "print(X_test.shape)\n",
    "print(y_test.shape)\n",
    "print(X_val.shape)\n",
    "print(y_val.shape)"
   ]
  },
  {
   "cell_type": "code",
   "execution_count": 43,
   "id": "0b28196b-d45d-4c63-9f2a-4dee796eadbd",
   "metadata": {},
   "outputs": [
    {
     "name": "stdout",
     "output_type": "stream",
     "text": [
      "(array([0, 1, 2, 3, 4, 5, 6, 7, 8, 9], dtype=uint8), array([5000, 5000, 5000, 5000, 5000, 5000, 5000, 5000, 5000, 5000]))\n",
      "(array([0, 1, 2, 3, 4, 5, 6, 7, 8, 9], dtype=uint8), array([500, 500, 500, 500, 500, 500, 500, 500, 500, 500]))\n",
      "(array([0, 1, 2, 3, 4, 5, 6, 7, 8, 9], dtype=uint8), array([500, 500, 500, 500, 500, 500, 500, 500, 500, 500]))\n"
     ]
    }
   ],
   "source": [
    "print(np.unique(y_train, return_counts=True))\n",
    "print(np.unique(y_test, return_counts=True))\n",
    "print(np.unique(y_val, return_counts=True))"
   ]
  },
  {
   "cell_type": "markdown",
   "id": "873aa8ab-08f9-489e-b5ae-84c093df8892",
   "metadata": {},
   "source": [
    "Now we want to split our dataset into the retain and forget sets. We figure out the single class that we want to \"unlearn\" through a constant variable for now but can randomize it in future experiments with random.\n",
    "\n",
    "Then we double check the set size and labels again"
   ]
  },
  {
   "cell_type": "code",
   "execution_count": 44,
   "id": "83311d8a-46b2-4bb3-ad10-b35b970fb67d",
   "metadata": {},
   "outputs": [],
   "source": [
    "def split_to_retain_and_forget(X, y, unlearn_class_label):\n",
    "    retain_mask = (y != unlearn_class_label).squeeze(axis=1)\n",
    "    \n",
    "    X_retain = X[retain_mask]\n",
    "    y_retain = y[retain_mask]\n",
    "    \n",
    "    forget_mask = (y == unlearn_class_label).squeeze(axis=1)\n",
    "    \n",
    "    X_forget = X[forget_mask]\n",
    "    y_forget = y[forget_mask]\n",
    "\n",
    "    return X_retain, y_retain, X_forget, y_forget"
   ]
  },
  {
   "cell_type": "code",
   "execution_count": 45,
   "id": "95f14d5f-c1c3-419b-be9a-50c7f4ae3e1f",
   "metadata": {},
   "outputs": [],
   "source": [
    "unlearn_class = 6"
   ]
  },
  {
   "cell_type": "code",
   "execution_count": 46,
   "id": "845b0d7d-b8af-465a-a4c7-d4169ca018f1",
   "metadata": {},
   "outputs": [
    {
     "name": "stdout",
     "output_type": "stream",
     "text": [
      "(45000, 32, 32, 3)\n",
      "(45000, 1)\n",
      "(array([0, 1, 2, 3, 4, 5, 7, 8, 9], dtype=uint8), array([5000, 5000, 5000, 5000, 5000, 5000, 5000, 5000, 5000]))\n",
      "(5000, 32, 32, 3)\n",
      "(5000, 1)\n",
      "(array([6], dtype=uint8), array([5000]))\n"
     ]
    }
   ],
   "source": [
    "X_train_retain, y_train_retain, X_train_forget, y_train_forget = split_to_retain_and_forget(X_train, y_train, unlearn_class)\n",
    "\n",
    "print(X_train_retain.shape)\n",
    "print(y_train_retain.shape)\n",
    "print(np.unique(y_train_retain, return_counts=True))\n",
    "\n",
    "print(X_train_forget.shape)\n",
    "print(y_train_forget.shape)\n",
    "print(np.unique(y_train_forget, return_counts=True))\n"
   ]
  },
  {
   "cell_type": "code",
   "execution_count": null,
   "id": "7acbac2f-f8ef-4e68-b688-3fc727a57fd7",
   "metadata": {},
   "outputs": [],
   "source": []
  }
 ],
 "metadata": {
  "kernelspec": {
   "display_name": "Python 3 (ipykernel)",
   "language": "python",
   "name": "python3"
  },
  "language_info": {
   "codemirror_mode": {
    "name": "ipython",
    "version": 3
   },
   "file_extension": ".py",
   "mimetype": "text/x-python",
   "name": "python",
   "nbconvert_exporter": "python",
   "pygments_lexer": "ipython3",
   "version": "3.11.5"
  }
 },
 "nbformat": 4,
 "nbformat_minor": 5
}
